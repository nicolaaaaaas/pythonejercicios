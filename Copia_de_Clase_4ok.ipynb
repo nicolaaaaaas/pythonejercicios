{
  "nbformat": 4,
  "nbformat_minor": 0,
  "metadata": {
    "colab": {
      "name": "Copia de Clase_4ok.ipynb",
      "provenance": [],
      "collapsed_sections": []
    },
    "kernelspec": {
      "name": "python3",
      "display_name": "Python 3"
    },
    "language_info": {
      "name": "python"
    }
  },
  "cells": [
    {
      "cell_type": "markdown",
      "metadata": {
        "id": "i6_ztyMVIPfo"
      },
      "source": [
        "La idea es que ustedes vayan resolviendo los ejercicios sin la necesidad de instalarse nada en sus computadoras. \n",
        "Antes que nada, creen una copia de este archivo en su ***Google Drive*** para tener permisos de edición, luego pueden compartirlo con quien quieran, tengan cuidado con los permisos al momento de compartir!!!!!!!. Si quieren, nos pueden compartir su documento a los docentes para que hagamos las correcciones y ayudemos con las dudas.\n",
        "\n",
        "### Agustin: **agustin.otero@estudiantes.unahur.edu.ar** ###\n",
        "\n",
        "\n",
        "En los bloques de código como el que les aparece aca abajo, se puede programar en Python, al pararse dentro del bloque, aparecerá un ícono de \"*play*\" en la esquina superior izquierda, \"*clickeando*\" en este ícono, se ejecuta el código escrito y se muestra la salida debajo, probemos:\n"
      ]
    },
    {
      "cell_type": "markdown",
      "metadata": {
        "id": "_ECoc_i4ZPY3"
      },
      "source": [
        "Para empezar a utilizar los bucles de repeticion comenzaremos con la estructura **for**.\n",
        "\n",
        "Esta estructura repetira una cantidad de veces determinada el codigo que este \"dentro\" de su estructura."
      ]
    },
    {
      "cell_type": "code",
      "metadata": {
        "id": "qxKDkNYGaqYE",
        "colab": {
          "base_uri": "https://localhost:8080/"
        },
        "outputId": "21cbeed9-70d7-4ec1-9ff3-1a2de516cfb6"
      },
      "source": [
        "for i in range(3):\n",
        "  print(\"soy el loro repetidor\")\n",
        " "
      ],
      "execution_count": null,
      "outputs": [
        {
          "output_type": "stream",
          "name": "stdout",
          "text": [
            "soy el loro repetidor\n",
            "soy el loro repetidor\n",
            "soy el loro repetidor\n"
          ]
        }
      ]
    },
    {
      "cell_type": "markdown",
      "metadata": {
        "id": "ynfYaBUfbSvr"
      },
      "source": [
        "¿Tambien para que nos sirve? para obtener los valores de nuestro objeto a iterar, siendo este un rango, o un string"
      ]
    },
    {
      "cell_type": "code",
      "metadata": {
        "id": "il3Gz4bkHKeP",
        "colab": {
          "base_uri": "https://localhost:8080/"
        },
        "outputId": "64257750-92a4-44c6-84ba-4fec335da3b2"
      },
      "source": [
        "for i in range (10):\n",
        "  print(i)"
      ],
      "execution_count": null,
      "outputs": [
        {
          "output_type": "stream",
          "name": "stdout",
          "text": [
            "0\n",
            "1\n",
            "2\n",
            "3\n",
            "4\n",
            "5\n",
            "6\n",
            "7\n",
            "8\n",
            "9\n"
          ]
        }
      ]
    },
    {
      "cell_type": "code",
      "metadata": {
        "id": "pgaU1-wCHX9Y",
        "colab": {
          "base_uri": "https://localhost:8080/"
        },
        "outputId": "72ca9621-7915-4b71-e235-8421576888f6"
      },
      "source": [
        "for i in \"pepito\":\n",
        "\n",
        "  print(f\" {i} / {i}\")"
      ],
      "execution_count": null,
      "outputs": [
        {
          "output_type": "stream",
          "name": "stdout",
          "text": [
            " p / p\n",
            " e / e\n",
            " p / p\n",
            " i / i\n",
            " t / t\n",
            " o / o\n"
          ]
        }
      ]
    },
    {
      "cell_type": "markdown",
      "metadata": {
        "id": "CNvWTITbbbvx"
      },
      "source": [
        "Tambien podemos operar con nuestra variable de iteracion, como tambien nombrarla como creamos necesaria."
      ]
    },
    {
      "cell_type": "code",
      "metadata": {
        "id": "u-s4q5lHHO3I",
        "colab": {
          "base_uri": "https://localhost:8080/"
        },
        "outputId": "f957aa02-3f95-4276-8f35-74f4ad85aa9b"
      },
      "source": [
        "for numero in range(10):\n",
        "  print(numero)"
      ],
      "execution_count": null,
      "outputs": [
        {
          "output_type": "stream",
          "name": "stdout",
          "text": [
            "0\n",
            "1\n",
            "2\n",
            "3\n",
            "4\n",
            "5\n",
            "6\n",
            "7\n",
            "8\n",
            "9\n"
          ]
        }
      ]
    },
    {
      "cell_type": "markdown",
      "metadata": {
        "id": "RxwFHvXoFBIK"
      },
      "source": [
        "Pero ojo cuidado con los **extremos** del rango.\n",
        "\n",
        "Si queremos llegar hasta el ultimo numero indicado, vamos a tener que sumarle 1."
      ]
    },
    {
      "cell_type": "code",
      "metadata": {
        "id": "FxlfXB2lcaU7",
        "colab": {
          "base_uri": "https://localhost:8080/"
        },
        "outputId": "0207ebe2-f2b0-413f-88eb-7979e0d11577"
      },
      "source": [
        "for numero in range(10):\n",
        "  print(numero+1)"
      ],
      "execution_count": null,
      "outputs": [
        {
          "output_type": "stream",
          "name": "stdout",
          "text": [
            "1\n",
            "2\n",
            "3\n",
            "4\n",
            "5\n",
            "6\n",
            "7\n",
            "8\n",
            "9\n",
            "10\n"
          ]
        }
      ]
    },
    {
      "cell_type": "markdown",
      "metadata": {
        "id": "oxyYwyPYFTIn"
      },
      "source": [
        "Empezemos a operar con inicio y fin de rango para ver como funcionan."
      ]
    },
    {
      "cell_type": "code",
      "metadata": {
        "id": "fD8oF5VpFbO5",
        "colab": {
          "base_uri": "https://localhost:8080/"
        },
        "outputId": "64438694-0768-4ec3-e56b-be06c6af6119"
      },
      "source": [
        "for i in range(0,10):\n",
        "  print(i)"
      ],
      "execution_count": null,
      "outputs": [
        {
          "output_type": "stream",
          "name": "stdout",
          "text": [
            "0\n",
            "1\n",
            "2\n",
            "3\n",
            "4\n",
            "5\n",
            "6\n",
            "7\n",
            "8\n",
            "9\n"
          ]
        }
      ]
    },
    {
      "cell_type": "code",
      "metadata": {
        "id": "0IGI4jDEFhKi",
        "colab": {
          "base_uri": "https://localhost:8080/"
        },
        "outputId": "05eb5b4d-370d-404b-f1c1-6e679b7cda3e"
      },
      "source": [
        "for i in range(5,10):\n",
        "  print(i)"
      ],
      "execution_count": null,
      "outputs": [
        {
          "output_type": "stream",
          "name": "stdout",
          "text": [
            "5\n",
            "6\n",
            "7\n",
            "8\n",
            "9\n"
          ]
        }
      ]
    },
    {
      "cell_type": "code",
      "metadata": {
        "id": "B9QN_U4wFhma"
      },
      "source": [
        "for numero in range(10,5):\n",
        "  print(i)"
      ],
      "execution_count": null,
      "outputs": []
    },
    {
      "cell_type": "markdown",
      "metadata": {
        "id": "WuoC8caZF0rj"
      },
      "source": [
        "¿y el **paso** ?"
      ]
    },
    {
      "cell_type": "code",
      "metadata": {
        "id": "sQ5M9eAFcnU3",
        "colab": {
          "base_uri": "https://localhost:8080/"
        },
        "outputId": "bd8df8d3-e9ec-4933-801e-2bb7c2313f80"
      },
      "source": [
        "\n",
        "numero = int(input(\"Ingresa un numero entero\"))\n",
        "\n",
        "for i in range (5):\n",
        " print(numero)\n",
        "  \n",
        "for j in range(1,5):\n",
        "\n",
        " print(f\" {i}  {j}\")\n",
        "\n",
        "\n"
      ],
      "execution_count": null,
      "outputs": [
        {
          "output_type": "stream",
          "name": "stdout",
          "text": [
            "Ingresa un numero entero5\n",
            "5\n",
            "5\n",
            "5\n",
            "5\n",
            "5\n",
            " 4  1\n",
            " 4  2\n",
            " 4  3\n",
            " 4  4\n"
          ]
        }
      ]
    },
    {
      "cell_type": "code",
      "metadata": {
        "id": "y3Wp-m6PF9Rz",
        "colab": {
          "base_uri": "https://localhost:8080/"
        },
        "outputId": "8a285457-b88b-45b1-95b7-b48a754d7e27"
      },
      "source": [
        "for i in range(0,10,2):\n",
        "  print(i)"
      ],
      "execution_count": null,
      "outputs": [
        {
          "output_type": "stream",
          "name": "stdout",
          "text": [
            "0\n",
            "2\n",
            "4\n",
            "6\n",
            "8\n"
          ]
        }
      ]
    },
    {
      "cell_type": "code",
      "metadata": {
        "id": "_3h16Dc2F-R4",
        "colab": {
          "base_uri": "https://localhost:8080/"
        },
        "outputId": "bb2962a6-d3e5-41c3-bb5c-bcf6ca719479"
      },
      "source": [
        "for i in range(0,10,3):\n",
        "  print(i)"
      ],
      "execution_count": null,
      "outputs": [
        {
          "output_type": "stream",
          "name": "stdout",
          "text": [
            "0\n",
            "3\n",
            "6\n",
            "9\n"
          ]
        }
      ]
    },
    {
      "cell_type": "markdown",
      "metadata": {
        "id": "s8NluaNpGBcg"
      },
      "source": [
        "Y tambien funiona para numeros negativos.\n",
        "\n",
        "Hay que tener en cuenta que cuando se requiere utilizar un **rango inverso**, a parte de poner el paso negativo, se deben de invertir el **start** y el **stop**."
      ]
    },
    {
      "cell_type": "code",
      "metadata": {
        "id": "L_jzuzi2Sg2b",
        "colab": {
          "base_uri": "https://localhost:8080/"
        },
        "outputId": "415f07f5-f226-4f3c-97fa-9d92df883cef"
      },
      "source": [
        "for i in range(10, 0, -1):\n",
        "    print(i)\n",
        "print(\"Feliz anio nuevo!\")"
      ],
      "execution_count": null,
      "outputs": [
        {
          "output_type": "stream",
          "name": "stdout",
          "text": [
            "10\n",
            "9\n",
            "8\n",
            "7\n",
            "6\n",
            "5\n",
            "4\n",
            "3\n",
            "2\n",
            "1\n",
            "Feliz anio nuevo!\n"
          ]
        }
      ]
    },
    {
      "cell_type": "markdown",
      "metadata": {
        "id": "_6WfOaw7GZp2"
      },
      "source": [
        "Ahora podemos empezar a mezclar los conocimientos adquiridos para darle una capa mas de funcionalidad a nuestro bucle."
      ]
    },
    {
      "cell_type": "code",
      "metadata": {
        "id": "G8a5wrjqIGMA",
        "colab": {
          "base_uri": "https://localhost:8080/"
        },
        "outputId": "5f9a143c-19da-4a6e-8d66-750dd399ca10"
      },
      "source": [
        "#ingreso de variable para rango\n",
        "\n",
        "numRepeticiones = int(input(\"ingrese el numero de repeticiones \"))\n",
        "\n",
        "for i in range (numRepeticiones):\n",
        "  print(\"hola, estoy repitiendo cual loro\")\n",
        "\n",
        "print(\"termine\")"
      ],
      "execution_count": null,
      "outputs": [
        {
          "output_type": "stream",
          "name": "stdout",
          "text": [
            "ingrese el numero de repeticiones 5\n",
            "hola, estoy repitiendo cual loro\n",
            "hola, estoy repitiendo cual loro\n",
            "hola, estoy repitiendo cual loro\n",
            "hola, estoy repitiendo cual loro\n",
            "hola, estoy repitiendo cual loro\n",
            "termine\n"
          ]
        }
      ]
    },
    {
      "cell_type": "markdown",
      "metadata": {
        "id": "mn_JZb95G5Ct"
      },
      "source": [
        "Como asi tambien, parametrizar una parte de nuestro rango."
      ]
    },
    {
      "cell_type": "code",
      "metadata": {
        "id": "T1Tyk4KBTa9u",
        "colab": {
          "base_uri": "https://localhost:8080/"
        },
        "outputId": "85ffa45e-ef56-4959-850c-a1cba16333b7"
      },
      "source": [
        "#ingreso de variable para rango numerico\n",
        "\n",
        "numMostrar = int(input(\"ingrese el numero hasta el que se quiera mostrar \"))\n",
        "\n",
        "for i in range (0, numMostrar + 1):\n",
        "  print(i) \n",
        "  \n"
      ],
      "execution_count": null,
      "outputs": [
        {
          "output_type": "stream",
          "name": "stdout",
          "text": [
            "ingrese el numero hasta el que se quiera mostrar 5\n",
            "0\n",
            "1\n",
            "2\n",
            "3\n",
            "4\n",
            "5\n"
          ]
        }
      ]
    },
    {
      "cell_type": "markdown",
      "metadata": {
        "id": "FKpVD7osHA-1"
      },
      "source": [
        "Una de las tantas funcionalidades que podemos utilizar hasta ahora con estos ciclos, es la de acumular valores.\n",
        "\n",
        "Hagamos un acumulador de 5 numeros, que los pida por consola , los sume y los muestre."
      ]
    },
    {
      "cell_type": "code",
      "metadata": {
        "id": "HAlffF8xIN58",
        "colab": {
          "base_uri": "https://localhost:8080/"
        },
        "outputId": "8a4f1608-0415-4127-e9e6-580c8e5c03ab"
      },
      "source": [
        "#variable para acumulador\n",
        "acumulador = 0\n",
        "\n",
        "for i in range(5):\n",
        "  aux = int(input(\"ingrese un numero a sumar\"))\n",
        "  #aca hacer la suma acumulada\n",
        "  acumulador = acumulador + aux\n",
        "\n",
        "print(acumulador)\n",
        "#muestro lo acumulado\n",
        "\n"
      ],
      "execution_count": null,
      "outputs": [
        {
          "output_type": "stream",
          "name": "stdout",
          "text": [
            "ingrese un numero a sumar2\n",
            "ingrese un numero a sumar3\n",
            "ingrese un numero a sumar4\n",
            "ingrese un numero a sumar5\n",
            "ingrese un numero a sumar6\n",
            "20\n"
          ]
        }
      ]
    },
    {
      "cell_type": "markdown",
      "metadata": {
        "id": "GOfauj3nHUUp"
      },
      "source": [
        "Aca se complica mas. Vamos a **anidar** bucles.\n",
        "\n",
        "No es lo mas recomendado anidar bucles, pero a veces es necesario. por legibilidad y necesidad del lenguaje vamos a tener que **indentar** correctamente nuestro codigo para que funcione correctamente.\n",
        "\n",
        "Primero analicemos como funciona este codigo, y luego lo ejecutamos.\n",
        "\n",
        "¿hizo lo que pensaron?\n",
        "\n",
        "¿por que?"
      ]
    },
    {
      "cell_type": "code",
      "metadata": {
        "id": "pEqo0WQ1HdFH",
        "colab": {
          "base_uri": "https://localhost:8080/"
        },
        "outputId": "76ab21c8-b97c-409f-ae55-2e752309cf91"
      },
      "source": [
        "print(\"comienzo el ciclo\")\n",
        "\n",
        "for i in range(5):\n",
        "  for j in range(3):\n",
        "    print(\"segundo for, numero:\" , j)\n",
        "  print(\"primer for, numero: \", i)\n",
        "\n",
        "print(\"fin del ciclo\")"
      ],
      "execution_count": null,
      "outputs": [
        {
          "output_type": "stream",
          "name": "stdout",
          "text": [
            "comienzo el ciclo\n",
            "segundo for, numero: 0\n",
            "segundo for, numero: 1\n",
            "segundo for, numero: 2\n",
            "primer for, numero:  0\n",
            "segundo for, numero: 0\n",
            "segundo for, numero: 1\n",
            "segundo for, numero: 2\n",
            "primer for, numero:  1\n",
            "segundo for, numero: 0\n",
            "segundo for, numero: 1\n",
            "segundo for, numero: 2\n",
            "primer for, numero:  2\n",
            "segundo for, numero: 0\n",
            "segundo for, numero: 1\n",
            "segundo for, numero: 2\n",
            "primer for, numero:  3\n",
            "segundo for, numero: 0\n",
            "segundo for, numero: 1\n",
            "segundo for, numero: 2\n",
            "primer for, numero:  4\n",
            "fin del ciclo\n"
          ]
        }
      ]
    },
    {
      "cell_type": "markdown",
      "metadata": {
        "id": "Ym9STc2f2NOu"
      },
      "source": [
        "\n",
        "numero1 = 1\n",
        "numero2 = 2\n",
        "numero3 = 3\n",
        "numero4 = 4\n",
        "numero5 = 5\n",
        "numero6 = 6\n",
        "numero7 = 7 \n",
        "numero8 = 8 \n",
        "numero9 = 9\n",
        "numero10 = 10\n",
        "\n",
        "print(f\" {numero1}  {numero2}  {numero3}  {numero4}  {numero5}  {numero6}  {numero7} {numero8}  {numero9}  {numero10}\")\n",
        "\n",
        "for i in range(0,11):\n",
        "  print(i)\n",
        "\n",
        "Mostrar por pantalla todos los números enteros entre 1 y 10. \n",
        "\n",
        "Primero hacerlo codificarlo como venimos haciendo hasta ahora, luego hacerlo usando un bucle for."
      ]
    },
    {
      "cell_type": "markdown",
      "metadata": {
        "id": "-7yPQaA7mAIT"
      },
      "source": [
        "### **Ejercicio 2**\n",
        "\n",
        "for i in range(0,101):\n",
        "  print(i)\n",
        "\n",
        "Mostrar por pantalla todos los números enteros entre 1 y 100, hacerlo usando un bucle while y tambien con un bucle for."
      ]
    },
    {
      "cell_type": "markdown",
      "metadata": {
        "id": "mCsinukWmFXk"
      },
      "source": [
        "### **Ejercicio 3**\n",
        "\n",
        "numero1 = input(\"ingrese el primer numero a sumar\")\n",
        "numero2 = input(\"ingrese el primer numero a sumar\")\n",
        "\n",
        "for i in range(numero1,numero2,1):\n",
        "  print(i)\n",
        "\n",
        "Escribir un programa que pida al usuario dos números enteros e imprima todos los números enteros entre ellos."
      ]
    },
    {
      "cell_type": "markdown",
      "metadata": {
        "id": "FHgTSUjkmLut"
      },
      "source": [
        "### **Ejercicio 4**\n",
        "nombre = str(input(\"Hola, como te llamas?\"))\n",
        "numero = int(input(\"Ahora ingresa un numero\"))\n",
        "\n",
        "for numero in range(0,numero):\n",
        "  print (nombre)\n",
        "\n",
        "Escribir un programa que pregunte el nombre del usuario en la consola y un número entero e imprima por pantalla en líneas distintas el nombre del usuario tantas veces como el número introducido."
      ]
    },
    {
      "cell_type": "code",
      "metadata": {
        "colab": {
          "base_uri": "https://localhost:8080/"
        },
        "id": "gpr_vcMlxc1r",
        "outputId": "77885dce-09a7-485b-82ca-7fc4f7c1f3e2"
      },
      "source": [
        "nombre = str(input(\"Hola, como te llamas?\"))\n",
        "numero = int(input(\"Ahora ingresa un numero\"))\n",
        "\n",
        "for numero in range(0,numero):\n",
        "  print (nombre)"
      ],
      "execution_count": null,
      "outputs": [
        {
          "output_type": "stream",
          "name": "stdout",
          "text": [
            "Hola, como te llamas?Nicolas\n",
            "Ahora ingresa un numero5\n",
            "Nicolas\n",
            "Nicolas\n",
            "Nicolas\n",
            "Nicolas\n",
            "Nicolas\n"
          ]
        }
      ]
    },
    {
      "cell_type": "markdown",
      "metadata": {
        "id": "fQSg6FfrAyMl"
      },
      "source": [
        "### **Ejercicio 5**\n",
        "numero = int(input(\"Ingresa un numero\"))\n",
        "acumulador = 0 \n",
        " \n",
        "for i in range(0,numero):\n",
        "  aux = int(input(\"ingrese un numero a sumar\"))\n",
        "  #aca hacer la suma acumulada\n",
        "  acumulador = acumulador + aux\n",
        "print(acumulador)\n",
        "\n",
        "Escribir un programa que solicite al usuario una cantidad y luego itere la cantidad de veces dada. En cada iteración, solicitar al usuario que ingrese un número. Al finalizar, mostrar la suma de todos los números ingresados."
      ]
    },
    {
      "cell_type": "markdown",
      "metadata": {
        "id": "va0WUcznzbdh"
      },
      "source": [
        "### **Ejercicio 6**\n",
        "numero = int(input(\"Ingresa un numero del 1 al 10\"))\n",
        "\n",
        "for i in range (numero,100,numero):\n",
        " print(i)\n",
        "\n",
        "Realizar un programa que solicite la carga de un valor entero del 1 al 10. Mostrar después la tabla de multiplicar de dicho número."
      ]
    },
    {
      "cell_type": "markdown",
      "metadata": {
        "id": "EX5F6EFPmdrk"
      },
      "source": [
        "### **Ejercicio 7**\n",
        "numero = int(input(\"Ingresa un numero entero\"))\n",
        "\n",
        "for i in range (5):\n",
        " print(numero)\n",
        "  \n",
        "for j in range(1,5):\n",
        "\n",
        " print(f\" {i}  {j}\")\n",
        "\n",
        "\n",
        "Escribir un programa que pida al usuario un número entero y muestre por pantalla un triángulo rectángulo como el de más abajo, de altura igual al número introducido.\n",
        "\n",
        "![image.png](data:image/png;base64,iVBORw0KGgoAAAANSUhEUgAAAEMAAABwCAIAAADKRlonAAADR0lEQVR4Ae2bwWvacBTH+6cIIVAiY2EQhDAwB/UQBkHQQ+xBYcnBwszBHUQQoQhLYCoG2eihQnuxwnrZDm3/u9HpwcNLSF58+Tl9PUmT9335fj8J9GvoReFUfi5OxUiBnRwfSmbCTOgS4LuLLlusMjPBJkc3x0zossUqMxNscnRzzIQuW6zyOTAxx9MvOjYgAXMAE6Ux9AdNvT6eetVyZ+x7VVnAhaVeCTgpFGTN8vz7P89Pt6PPVUVKLSpkAHKiGO3RPLzdrO+XYfC1UfovkEA9XjHbjqnK/54TuWQ5tiEk47RLISZbjbLbs9W0cgLPj3Yi8KJQq9kJKjbSIWZCGi9KnJmgYiMdYiak8aLEmQkqNtKhc2ACdka56c9chTRbrDjABO6MWvsm8KxSy5+5unl9M3H1I2tggJOozijrzf5s8/yyCYet8vFxgZyAnVFSTXcSLlbrx1W4mPQ+HV11AZzAnVG1nI6hbJ+TS912mxr2hiaaA5zsNoGdUar2POs4e320E6LoyGTZCVm0aGFmgo6ObJCZkEWLFmYm6OjIBpkJWbRo4XNgkqIzqs4saIj+uxJgkqIzSkb326Rb051ZYOtWPxjbH9B3R9ZBwEm6zqgY7eHy18vr+rvg93iQkxSdUdbqnr9Y3j1ufi7mYl+vAk5SdEZJa7gt/XL7nBQrHdd6l/UmQc8DTnZaKTpj0fKuK6K/aol2gg5H0CA7ERR8zFpmEhOOoEPMRFDwMWuZSUw4gg4xE0HBx6w9ByaZO6PuzQe1mBAPfAhgkrkzymY/GHWMSn8+sHR7EAzqxQNfNSQHODlAZ5TUiju5e3r9vQq6eb3Hg5xk7oxv71aDZXi/efixnOb1ehVwkrkzyuUr19Lkt+fElN+bbruWx/cugJPdTZi5M2pXnvMRuqNpfhfthGYfnSo7ocsWq8xMsMnRzTETumyxyswEmxzdHDOhyxarfA5MiDojKIvlsD8HMCHqjLDs/rVk+ww4IeuMtP8mCTkh6oygbDYO+9OAE6LOCMvuX0u2z4CTnSBRZwRls3nYTkc7OYR6nhrsJM+0k+1iJslyyvMsZpJn2sl2MZNkOeV5FjPJM+1ku5hJspzyPIuZ5Jl2sl2nw+Qv5mAxkiOJ8voAAAAASUVORK5CYII=)"
      ]
    },
    {
      "cell_type": "code",
      "metadata": {
        "colab": {
          "base_uri": "https://localhost:8080/"
        },
        "id": "uNenTZH6nPdU",
        "outputId": "bb7112ae-3539-41e7-d5e8-e748b4b903f1"
      },
      "source": [
        "numero = int(input(\"Ingresa un numero entero\"))\n",
        "\n",
        "for i in range(numero):\n",
        " \n",
        "  \n",
        " for j in range(numero):\n",
        "  print(numero)\n",
        "\n",
        "  print(f\" {i}  {j}\")"
      ],
      "execution_count": null,
      "outputs": [
        {
          "output_type": "stream",
          "name": "stdout",
          "text": [
            "Ingresa un numero entero6\n",
            "6\n",
            " 0  0\n",
            "6\n",
            " 0  1\n",
            "6\n",
            " 0  2\n",
            "6\n",
            " 0  3\n",
            "6\n",
            " 0  4\n",
            "6\n",
            " 0  5\n",
            "6\n",
            " 1  0\n",
            "6\n",
            " 1  1\n",
            "6\n",
            " 1  2\n",
            "6\n",
            " 1  3\n",
            "6\n",
            " 1  4\n",
            "6\n",
            " 1  5\n",
            "6\n",
            " 2  0\n",
            "6\n",
            " 2  1\n",
            "6\n",
            " 2  2\n",
            "6\n",
            " 2  3\n",
            "6\n",
            " 2  4\n",
            "6\n",
            " 2  5\n",
            "6\n",
            " 3  0\n",
            "6\n",
            " 3  1\n",
            "6\n",
            " 3  2\n",
            "6\n",
            " 3  3\n",
            "6\n",
            " 3  4\n",
            "6\n",
            " 3  5\n",
            "6\n",
            " 4  0\n",
            "6\n",
            " 4  1\n",
            "6\n",
            " 4  2\n",
            "6\n",
            " 4  3\n",
            "6\n",
            " 4  4\n",
            "6\n",
            " 4  5\n",
            "6\n",
            " 5  0\n",
            "6\n",
            " 5  1\n",
            "6\n",
            " 5  2\n",
            "6\n",
            " 5  3\n",
            "6\n",
            " 5  4\n",
            "6\n",
            " 5  5\n"
          ]
        }
      ]
    },
    {
      "cell_type": "code",
      "metadata": {
        "colab": {
          "base_uri": "https://localhost:8080/"
        },
        "id": "bcXD8nMTxxhu",
        "outputId": "caf36346-d90b-4f07-fed7-e668787fa40c"
      },
      "source": [
        "numero = int(input(\"Ingresa un numero entero\"))\n",
        "\n",
        "for i in range (numero): \n",
        "\n",
        "  \n",
        "\n",
        " for j in range (numero):\n",
        "  \n",
        "\n",
        "  print(f\"{i} / {j}\")"
      ],
      "execution_count": null,
      "outputs": [
        {
          "output_type": "stream",
          "name": "stdout",
          "text": [
            "Ingresa un numero entero5\n",
            "0 / 0\n",
            "0 / 1\n",
            "0 / 2\n",
            "0 / 3\n",
            "0 / 4\n",
            "1 / 0\n",
            "1 / 1\n",
            "1 / 2\n",
            "1 / 3\n",
            "1 / 4\n",
            "2 / 0\n",
            "2 / 1\n",
            "2 / 2\n",
            "2 / 3\n",
            "2 / 4\n",
            "3 / 0\n",
            "3 / 1\n",
            "3 / 2\n",
            "3 / 3\n",
            "3 / 4\n",
            "4 / 0\n",
            "4 / 1\n",
            "4 / 2\n",
            "4 / 3\n",
            "4 / 4\n"
          ]
        }
      ]
    },
    {
      "cell_type": "markdown",
      "metadata": {
        "id": "Ha9IVxv_mtNz"
      },
      "source": [
        "numero = int(input(\"Ingresa un numero entero\"))\n",
        "\n",
        "\n",
        "### **Ejercicio 8**\n",
        "\n",
        "Escribir un programa que imprima la sucecion de fibonacci. Para ello pida un número natural n al usuario e imprima por pantalla la suma de los números naturales de 1 hasta n. Por ejemplo para n = 5, la salida debe ser:\n",
        "\n",
        "1 + 2 + 3 + 4 + 5 = 15"
      ]
    },
    {
      "cell_type": "markdown",
      "metadata": {
        "id": "KUNB_ZE4meeF"
      },
      "source": [
        "### **Ejercicio 9**\n",
        "\n",
        "Escribir un programa que imprima por pantalla todas las fichas del domino, una por línea, sin repetir.\n",
        " "
      ]
    },
    {
      "cell_type": "code",
      "metadata": {
        "id": "znVDmFggogZS"
      },
      "source": [
        "# 0 | 0    \n",
        "# 0 | 1    1 | 1 \n",
        "# 0 | 2    1 | 2    2 | 2 \n",
        "# 0 | 3    1 | 3    2 | 3    3 | 3 \n",
        "# 0 | 4    1 | 4    2 | 4    3 | 4    4 | 4\n",
        "# 0 | 5    1 | 5    2 | 5    3 | 5    4 | 5    5 | 5\n",
        "# 0 | 6    1 | 6    2 | 6    3 | 6    4 | 6    5 | 6    6 | 6"
      ],
      "execution_count": null,
      "outputs": []
    },
    {
      "cell_type": "code",
      "metadata": {
        "colab": {
          "base_uri": "https://localhost:8080/"
        },
        "id": "b_NKn3pETs2S",
        "outputId": "f9e417ed-9696-450a-a835-ebafc540de31"
      },
      "source": [
        "numero = 7\n",
        "\n",
        "for i in range (0,7): \n",
        " \n",
        "\n",
        " for j in range (i,numero):\n",
        "   \n",
        "\n",
        "  print(f\" {i} | {j} \")"
      ],
      "execution_count": null,
      "outputs": [
        {
          "output_type": "stream",
          "name": "stdout",
          "text": [
            " 0 | 0 \n",
            " 0 | 1 \n",
            " 0 | 2 \n",
            " 0 | 3 \n",
            " 0 | 4 \n",
            " 0 | 5 \n",
            " 0 | 6 \n",
            " 1 | 1 \n",
            " 1 | 2 \n",
            " 1 | 3 \n",
            " 1 | 4 \n",
            " 1 | 5 \n",
            " 1 | 6 \n",
            " 2 | 2 \n",
            " 2 | 3 \n",
            " 2 | 4 \n",
            " 2 | 5 \n",
            " 2 | 6 \n",
            " 3 | 3 \n",
            " 3 | 4 \n",
            " 3 | 5 \n",
            " 3 | 6 \n",
            " 4 | 4 \n",
            " 4 | 5 \n",
            " 4 | 6 \n",
            " 5 | 5 \n",
            " 5 | 6 \n",
            " 6 | 6 \n"
          ]
        }
      ]
    },
    {
      "cell_type": "code",
      "metadata": {
        "colab": {
          "base_uri": "https://localhost:8080/",
          "height": 129
        },
        "id": "LO5WryT60MRD",
        "outputId": "cdbccad6-a155-4ac0-be9b-fe0061458651"
      },
      "source": [
        "for i in range(0,6):\n",
        "  for j in range():\n",
        "\n",
        "print(f\" {i} / {j}\")"
      ],
      "execution_count": null,
      "outputs": [
        {
          "output_type": "error",
          "ename": "IndentationError",
          "evalue": "ignored",
          "traceback": [
            "\u001b[0;36m  File \u001b[0;32m\"<ipython-input-4-ed15d96d64de>\"\u001b[0;36m, line \u001b[0;32m4\u001b[0m\n\u001b[0;31m    print(f\" {i} / {j}\")\u001b[0m\n\u001b[0m                        ^\u001b[0m\n\u001b[0;31mIndentationError\u001b[0m\u001b[0;31m:\u001b[0m expected an indented block\n"
          ]
        }
      ]
    },
    {
      "cell_type": "code",
      "metadata": {
        "id": "FyOYNGL90W4H"
      },
      "source": [
        ""
      ],
      "execution_count": null,
      "outputs": []
    }
  ]
}