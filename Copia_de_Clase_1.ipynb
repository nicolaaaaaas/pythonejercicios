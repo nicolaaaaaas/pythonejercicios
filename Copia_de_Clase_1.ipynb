{
  "nbformat": 4,
  "nbformat_minor": 0,
  "metadata": {
    "colab": {
      "name": "Copia de Clase_1.ipynb",
      "provenance": []
    },
    "kernelspec": {
      "name": "python3",
      "display_name": "Python 3"
    },
    "language_info": {
      "name": "python"
    }
  },
  "cells": [
    {
      "cell_type": "markdown",
      "metadata": {
        "id": "mbfMxbL2ieor"
      },
      "source": [
        "La idea es que ustedes vayan resolviendo los ejercicios sin la necesidad de instalarse nada en sus computadoras. \n",
        "Antes que nada, creen una copia de este archivo en su ***Google Drive*** para tener permisos de edición, luego pueden compartirlo con quien quieran, tengan cuidado con los permisos al momento de compartir!!!!!!!. Si quieren, nos pueden compartir su documento a los docentes para que hagamos las correcciones y ayudemos con las dudas.\n",
        "\n",
        "### Agustin: **agustin.otero@estudiantes.unahur.edu.ar** ###\n",
        "\n",
        "\n",
        "En los bloques de código como el que les aparece aca abajo, se puede programar en Python, al pararse dentro del bloque, aparecerá un ícono de \"*play*\" en la esquina superior izquierda, \"*clickeando*\" en este ícono, se ejecuta el código escrito y se muestra la salida debajo, probemos:"
      ]
    },
    {
      "cell_type": "code",
      "metadata": {
        "id": "M2KFfQTdh8hs"
      },
      "source": [
        "print(\"Hello world\")"
      ],
      "execution_count": null,
      "outputs": []
    },
    {
      "cell_type": "markdown",
      "metadata": {
        "id": "eC9gHUzon9nX"
      },
      "source": [
        "El comando **print** nos va a imprimir por pantalla lo que tenga dentro de su parentesis.\n",
        "\n",
        "Ahora haganlo ustedes, pero imprimiendo **hola mundo**"
      ]
    },
    {
      "cell_type": "code",
      "metadata": {
        "id": "YPOcdOkZoi1G"
      },
      "source": [
        "Print(  )"
      ],
      "execution_count": null,
      "outputs": []
    },
    {
      "cell_type": "markdown",
      "metadata": {
        "id": "FWuZ0lOrpBoo"
      },
      "source": [
        "Acuerdensen de poner las comillas (\") sino no toma lo escrito, lo toma como una variable.\n",
        "\n",
        "Tambien pueden imprimir numeros o caracteres especiales.\n",
        "\n",
        "prueben imprimiendo un numero cualquiera, como por ejemplo un numero de telefono o un mail."
      ]
    },
    {
      "cell_type": "code",
      "metadata": {
        "id": "XHeLbtNqpeKz"
      },
      "source": [
        "print(\"mi nombre es alejandro , mi numero de afiliado es 485.256 y mi mail es alejandro@yahoo.com.ar\")"
      ],
      "execution_count": null,
      "outputs": []
    },
    {
      "cell_type": "code",
      "metadata": {
        "id": "74ZYDgbbqb7X"
      },
      "source": [
        "# pruebenlo ustedes.\n",
        "print(  )"
      ],
      "execution_count": null,
      "outputs": []
    },
    {
      "cell_type": "markdown",
      "metadata": {
        "id": "tLX9kNjZq2CY"
      },
      "source": [
        "¿Ven algo raro en el codigo anterior?\n",
        "\n",
        "El **#** se utiliza para hacer **comentarios** en una sola linea.\n",
        "\n",
        "Los comentarios son inscrustaciones en el codigo de anotaciones legibles para ayudar al programador a comprender o **documentar** el codigo.\n",
        "\n",
        "En Python para comentar **solo una linea** se utiliza el (#). En caso de que se quiera comentar mas de una linea, se utiliza la triple comilla (') al **principio del comentario y al final**."
      ]
    },
    {
      "cell_type": "code",
      "metadata": {
        "id": "x0t6XzQ5uCMA"
      },
      "source": [
        "print(\"esta mañana es hermosa\")\n",
        "#print(\"Se puso a llover\")\n",
        "'''\n",
        "print(\"esta muy ventoso hoy\")\n",
        "print(\"se vino santa rosa\")\n",
        "'''\n",
        "print(\"esta para darle una vuelta al perro\")\n",
        "print(\"hoy no salis firulays\")"
      ],
      "execution_count": null,
      "outputs": []
    },
    {
      "cell_type": "markdown",
      "metadata": {
        "id": "lrG6-TuE_xdj"
      },
      "source": [
        "Juguemos con los comentarios para cambiar el clima y salir a pasear o no.\n"
      ]
    },
    {
      "cell_type": "markdown",
      "metadata": {
        "id": "F3chfFYP-2oK"
      },
      "source": [
        "Vamos a conocer las variables.\n",
        "\n",
        "las variables son \"cajas\" en las cuales vamos a guardar nuestros datos. cada variable tiene su nombre propio e irrepetible.\n",
        "\n",
        "Creen la variable cualidad para describir con un breve texto la banda mencionada e imprimanlo en pantalla.\n"
      ]
    },
    {
      "cell_type": "code",
      "metadata": {
        "id": "JwVyJFdbDLwb"
      },
      "source": [
        "banda = \"miranda\"\n",
        "cualidad = \n",
        "\n",
        "print(banda)\n",
        "print ()"
      ],
      "execution_count": null,
      "outputs": []
    },
    {
      "cell_type": "markdown",
      "metadata": {
        "id": "6lsW13u9FBRH"
      },
      "source": [
        "Las variables no son inmutables, se pueden modificar como veremos a continuacion.\n",
        "\n",
        "Asique cuidado al momento de modificarlas."
      ]
    },
    {
      "cell_type": "code",
      "metadata": {
        "id": "S5mrhij3Fgl4"
      },
      "source": [
        "numero = 1\n",
        "\n",
        "print(numero)\n",
        "print(numero)\n",
        "\n",
        "numero = \"jaja, te lo cambie\"\n",
        "\n",
        "print(numero)\n",
        "\n",
        "número = 79\n",
        "\n",
        "print(numero)"
      ],
      "execution_count": null,
      "outputs": []
    },
    {
      "cell_type": "markdown",
      "metadata": {
        "id": "hC-jQOzqNOUn"
      },
      "source": [
        "Una variable no solo contiene informacion que le pongaos nosotros, sino tambien informacion procesada por nuestro algoritmo."
      ]
    },
    {
      "cell_type": "code",
      "metadata": {
        "id": "yXDNKrLbNXRC"
      },
      "source": [
        "num1 = 3\n",
        "num2 = 5\n",
        "suma = num1 + num 2\n",
        "\n",
        "print(num1)\n",
        "print(num2)\n",
        "print(sumar)"
      ],
      "execution_count": null,
      "outputs": []
    },
    {
      "cell_type": "markdown",
      "metadata": {
        "id": "3NK9F6_2OMhx"
      },
      "source": [
        "¿que pasa si queremos imprimir varias variables en una sola linea?\n",
        "\n",
        "Para ayudarnos tenemos a nuestro amigo el mas (+) que a parte de hacer la operacion de suma con variables numericas, concatena cuando se trata de imprimir cadenas de caracteres (string). Tambien se puede concatenar con la coma(,).\n",
        "\n",
        "Hay que tener en cuenta que las variable creadas mas arriba en el documento tambien sirven para utilizarlas despues. En este ejemplo vamos a traer la variable \"banda\" y \"cualidad\" formando una sola frase."
      ]
    },
    {
      "cell_type": "code",
      "metadata": {
        "id": "RJLkOAdbPvIu"
      },
      "source": [
        "print(\"la banda \" , banda + \" es \" + cualidad)"
      ],
      "execution_count": null,
      "outputs": []
    },
    {
      "cell_type": "markdown",
      "metadata": {
        "id": "BsFW5ccWRiIL"
      },
      "source": [
        "Estuvimos hablando de cariables numericas y varibles de cadenas de caracteres, ¿que son?\n",
        "\n",
        "Estos son **tipos de datos**, son los tipos de datos que acepta la computadora para procesar.\n",
        "\n",
        "Dentro de los tipos de datos numericos existen varios tipos, pero por el momento solo utilizaremos los **enteros**\n",
        "\n",
        "Los tipos de datos conocidos hasta ahora son :\n",
        "\n",
        "*   **string** (cadena de caracteres)\n",
        "*   **int** (enteros)"
      ]
    },
    {
      "cell_type": "code",
      "metadata": {
        "id": "gSMn_IlHVvhZ"
      },
      "source": [
        "numero1 = \"1\"\n",
        "numero2 = \"2\"\n",
        "print(\"Concatenación: \", numero1 + numero2)\n",
        "print(\"Suma: \", int(numero1) + int(numero2))"
      ],
      "execution_count": null,
      "outputs": []
    }
  ]
}