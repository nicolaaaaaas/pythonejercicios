{
  "nbformat": 4,
  "nbformat_minor": 0,
  "metadata": {
    "colab": {
      "name": "Copia de Clase 3 Nicolas 12-10.ipynb",
      "provenance": [],
      "collapsed_sections": []
    },
    "kernelspec": {
      "name": "python3",
      "display_name": "Python 3"
    },
    "language_info": {
      "name": "python"
    }
  },
  "cells": [
    {
      "cell_type": "markdown",
      "metadata": {
        "id": "i6_ztyMVIPfo"
      },
      "source": [
        "La idea es que ustedes vayan resolviendo los ejercicios sin la necesidad de instalarse nada en sus computadoras. \n",
        "Antes que nada, creen una copia de este archivo en su ***Google Drive*** para tener permisos de edición, luego pueden compartirlo con quien quieran, tengan cuidado con los permisos al momento de compartir!!!!!!!. Si quieren, nos pueden compartir su documento a los docentes para que hagamos las correcciones y ayudemos con las dudas.\n",
        "\n",
        "### Agustin: **agustin.otero@estudiantes.unahur.edu.ar** ###\n",
        "\n",
        "\n",
        "En los bloques de código como el que les aparece aca abajo, se puede programar en Python, al pararse dentro del bloque, aparecerá un ícono de \"*play*\" en la esquina superior izquierda, \"*clickeando*\" en este ícono, se ejecuta el código escrito y se muestra la salida debajo, probemos:\n"
      ]
    },
    {
      "cell_type": "markdown",
      "metadata": {
        "id": "r-yuhaVnlla4"
      },
      "source": [
        "Nosotros siempre \"codificamos\" los valores a utilizar, hoy vamos a dejarle esa parte al usuario de nuestro programa.\n",
        "\n",
        "Para ello utilizaremos el comando **input**."
      ]
    },
    {
      "cell_type": "code",
      "metadata": {
        "id": "YOCY9V-BS6hV",
        "colab": {
          "base_uri": "https://localhost:8080/"
        },
        "outputId": "039d4c91-f1ea-47c7-ed78-681af890d148"
      },
      "source": [
        "print(\"vamos a imprimir\", input())"
      ],
      "execution_count": null,
      "outputs": [
        {
          "output_type": "stream",
          "name": "stdout",
          "text": [
            "muchas cosas\n",
            "vamos a imprimir muchas cosas\n"
          ]
        }
      ]
    },
    {
      "cell_type": "markdown",
      "metadata": {
        "id": "S3L4x8UkmZCp"
      },
      "source": [
        "Como es de costumbre, vamos a sacar el procesamiento del print hacia una variable.\n",
        "\n",
        "Esto tambien nos permite guardar la informacion proporcionada por el usuario para poder utilizarla despues."
      ]
    },
    {
      "cell_type": "code",
      "metadata": {
        "id": "VKJARf94TQA2",
        "colab": {
          "base_uri": "https://localhost:8080/"
        },
        "outputId": "4842f4a6-11a3-4093-c861-e5551134067e"
      },
      "source": [
        "num1 = input()\n",
        "\n",
        "print(\"el numero indicado es \", num1)"
      ],
      "execution_count": null,
      "outputs": [
        {
          "output_type": "stream",
          "name": "stdout",
          "text": [
            "2\n",
            "el numero indicado es  2\n"
          ]
        }
      ]
    },
    {
      "cell_type": "markdown",
      "metadata": {
        "id": "1HPopEMxnB-9"
      },
      "source": [
        "Como veremos a continuacion, podemos acompañar nuestro ingreso de datos con un texto indicativo o informativo."
      ]
    },
    {
      "cell_type": "code",
      "metadata": {
        "id": "qBxzAwyFTgU3",
        "colab": {
          "base_uri": "https://localhost:8080/"
        },
        "outputId": "a5ebd063-ee83-40be-8845-abbd528874c1"
      },
      "source": [
        "num2 = input(\"ingrese un numero \")\n",
        "\n",
        "print(\"el numero indicado es \", num2)"
      ],
      "execution_count": null,
      "outputs": [
        {
          "output_type": "stream",
          "name": "stdout",
          "text": [
            "ingrese un numero h\n",
            "el numero indicado es  h\n"
          ]
        }
      ]
    },
    {
      "cell_type": "markdown",
      "metadata": {
        "id": "7V634yVDoID-"
      },
      "source": [
        "¿Como hacemos para limitar los ingresos de datos para un solo tipo de dato?\n",
        "\n",
        "ingresando el tipo de dato, y dentro el input."
      ]
    },
    {
      "cell_type": "code",
      "metadata": {
        "id": "faFWsMD5UOal",
        "colab": {
          "base_uri": "https://localhost:8080/"
        },
        "outputId": "d22c119d-e04b-4450-cb72-23113dae9db5"
      },
      "source": [
        "num3 = int(input(\"ingrese un numero \"))\n",
        "\n",
        "print(\"el numero indicado es \", num3)"
      ],
      "execution_count": null,
      "outputs": [
        {
          "output_type": "stream",
          "name": "stdout",
          "text": [
            "ingrese un numero 4\n",
            "el numero indicado es  4\n"
          ]
        }
      ]
    },
    {
      "cell_type": "markdown",
      "metadata": {
        "id": "a_a010EHrWMl"
      },
      "source": [
        "¿Cual es el tipo de dato por **defecto** en el que se guardan los valores ingresados por consola?"
      ]
    },
    {
      "cell_type": "code",
      "metadata": {
        "id": "prwcLhXBVLkP",
        "colab": {
          "base_uri": "https://localhost:8080/"
        },
        "outputId": "ac9a912d-c160-4c81-d4de-3f6e2a00855d"
      },
      "source": [
        "num4 = input(\"ingrese el primer numero a sumar\")\n",
        "num5 = input(\"ingrese el segundo numero a sumar\")\n",
        "\n",
        "suma= num4 + num5\n",
        "\n",
        "print(\"la suma es \", suma)\n"
      ],
      "execution_count": null,
      "outputs": [
        {
          "output_type": "stream",
          "name": "stdout",
          "text": [
            "ingrese el primer numero a sumar4\n",
            "ingrese el segundo numero a sumar5\n",
            "la suma es  45\n"
          ]
        }
      ]
    },
    {
      "cell_type": "markdown",
      "metadata": {
        "id": "EF9nrHaprmJa"
      },
      "source": [
        "Como vimos anteriormente, solo modificando el tipo de dato que se ingresa, con el mismo codigo que en el cuadro anterior realizaremos 2 procesamientos totalmente diferentes. "
      ]
    },
    {
      "cell_type": "code",
      "metadata": {
        "id": "pEgT1yc_V2va",
        "colab": {
          "base_uri": "https://localhost:8080/"
        },
        "outputId": "7e2fc325-d5ed-4e7c-89a7-5204f4030fdb"
      },
      "source": [
        "num4 = int(input(\"ingrese el primer numero a sumar\"))\n",
        "num5 = int(input(\"ingrese el segundo numero a sumar\"))\n",
        "\n",
        "suma= num4 + num5\n",
        "\n",
        "print(\"la suma es \", suma)"
      ],
      "execution_count": null,
      "outputs": [
        {
          "output_type": "stream",
          "name": "stdout",
          "text": [
            "ingrese el primer numero a sumar4\n",
            "ingrese el segundo numero a sumar5\n",
            "la suma es  9\n"
          ]
        }
      ]
    },
    {
      "cell_type": "markdown",
      "metadata": {
        "id": "D0CKPrgWwrTK"
      },
      "source": [
        "Ahora vamos a aprender a utilizar **librerias**.\n",
        "\n",
        "Las librerias son modulos especificos con funciones especificas para utilizar sus funcionalidades en nuestro codigo. \n",
        "\n",
        "Las librerias no dejan de ser codigo hecho por otra persona, pero que podemos solo la parte que necesitamos."
      ]
    },
    {
      "cell_type": "code",
      "metadata": {
        "id": "fkVRSFKCXqnC",
        "colab": {
          "base_uri": "https://localhost:8080/"
        },
        "outputId": "214f5758-4aa5-4e97-869e-a9a3a5e1f2af"
      },
      "source": [
        "import numpy as np\n",
        "\n",
        "pi = np.pi\n",
        "\n",
        "print(pi)"
      ],
      "execution_count": null,
      "outputs": [
        {
          "output_type": "stream",
          "name": "stdout",
          "text": [
            "3.141592653589793\n"
          ]
        }
      ]
    },
    {
      "cell_type": "markdown",
      "metadata": {
        "id": "YmkWbvdAyTUV"
      },
      "source": [
        "Numpy es una libreria de rutinas para operaciones rápidas en matrices, que incluyen manipulación matemática, lógica, de formas, clasificación, selección, E / S. , transformadas discretas de Fourier, álgebra lineal básica, operaciones estadísticas básicas, simulación aleatoria y mucho más.\n",
        "\n",
        "Nosotros por el momento solo utilizaremos el **valor de pi**"
      ]
    },
    {
      "cell_type": "code",
      "metadata": {
        "id": "CZHbotTCX45Q",
        "colab": {
          "base_uri": "https://localhost:8080/"
        },
        "outputId": "1c5f14eb-ab53-48e2-c93a-e1a5864e8400"
      },
      "source": [
        "radio= 8\n",
        "\n",
        "circunferencia = pi * radio\n",
        "circunferencia2 = round (circunferencia, 2)\n",
        "print(\"la circunferencia de un circulo de de radio 8 es \", circunferencia2)"
      ],
      "execution_count": null,
      "outputs": [
        {
          "output_type": "stream",
          "name": "stdout",
          "text": [
            "la circunferencia de un circulo de de radio 8 es  25.13\n"
          ]
        }
      ]
    },
    {
      "cell_type": "markdown",
      "metadata": {
        "id": "jI0qAxEyzuyr"
      },
      "source": [
        "¿podemos saber todas las funcionalidades de las librerias?\n",
        "\n",
        "No, y no hace falta, solo hace falta saber buscar.\n",
        "\n",
        "Para ello buscaremos la **documentacion** de nuestras librerias y alli se nos indicara como invocar las funcionalidades y que parametros se les deben de suministrar para que funcionen correctamente."
      ]
    },
    {
      "cell_type": "code",
      "metadata": {
        "id": "T0H_8JoJYQPb",
        "colab": {
          "base_uri": "https://localhost:8080/"
        },
        "outputId": "b35f24e7-2bee-417a-e57b-38ff8b82ec0b"
      },
      "source": [
        "import random\n",
        "#importo la libreria\n",
        "\n",
        "numeroAlAzar= random.randrange(0, 10)\n",
        "#guardo el valor en una variable\n",
        "\n",
        "print(numeroAlAzar)\n",
        "#muestro la variable"
      ],
      "execution_count": null,
      "outputs": [
        {
          "output_type": "stream",
          "name": "stdout",
          "text": [
            "8\n"
          ]
        }
      ]
    },
    {
      "cell_type": "markdown",
      "metadata": {
        "id": "nTYjBZNfdZZv"
      },
      "source": [
        "**Ejercicio 1**\n",
        "\n",
        "Escribir un programa que cree dos variables enteras, se le ingresen los números y muestre por pantalla: la suma, la resta, la multiplicación, la división entera y el resto de la división entera."
      ]
    },
    {
      "cell_type": "code",
      "metadata": {
        "id": "OSC1WyTBvxJy",
        "colab": {
          "base_uri": "https://localhost:8080/"
        },
        "outputId": "445cb1f0-07de-44e2-9c19-7755fcc4ba4e"
      },
      "source": [
        "numero1 = int(input(\"ingrese el primer numero \"))\n",
        "numero2 = int(input(\"ingrese el primer numero \"))\n",
        "\n",
        "suma = numero1 + numero2\n",
        "resta = numero1 - numero2\n",
        "multiplicacion = numero1 * numero2\n",
        "divisionEntera = numero1 / numero2\n",
        "\n",
        "print(f\"La suma de {numero1} y {numero2} es: {suma}\")\n",
        "print(f\"La resta de {numero1} y {numero2} es: {resta}\")\n",
        "print(f\"La multiplicacion de {numero1} y {numero2} es: {multiplicacion}\")\n",
        "print(f\"La division entera de {numero1} y {numero2} es: {divisionEntera}\")"
      ],
      "execution_count": null,
      "outputs": [
        {
          "output_type": "stream",
          "name": "stdout",
          "text": [
            "ingrese el primer numero 5\n",
            "ingrese el primer numero 6\n",
            "La suma de 5 y 6 es: 11\n",
            "La resta de 5 y 6 es: -1\n",
            "La multiplicacion de 5 y 6 es: 30\n",
            "La division entera de 5 y 6 es: 0.8333333333333334\n"
          ]
        }
      ]
    },
    {
      "cell_type": "markdown",
      "metadata": {
        "id": "vOML09z2dnXi"
      },
      "source": [
        "**Ejercicio 2**\n",
        "\n",
        "Dadas 3 notas ingresadas por consola, calcular la nota final usando el promedio de las mismas."
      ]
    },
    {
      "cell_type": "code",
      "metadata": {
        "id": "3K81S_eMvx7S",
        "colab": {
          "base_uri": "https://localhost:8080/"
        },
        "outputId": "36b6c153-920d-45fe-865a-08dd47b49b24"
      },
      "source": [
        "nota1 = int(input(\"ingrese el primer numero \"))\n",
        "nota2 = int(input(\"ingrese el segundo numero \"))\n",
        "nota3 = int(input(\"ingrese el tercer numero \"))\n",
        "\n",
        "notafinal = nota1 + nota2 + nota3 \n",
        "notafinal2 = notafinal / 3\n",
        "\n",
        "print(f\"el promedio de las notas ingresadas es: {notafinal2}\") "
      ],
      "execution_count": null,
      "outputs": [
        {
          "output_type": "stream",
          "name": "stdout",
          "text": [
            "ingrese el primer numero 5\n",
            "ingrese el segundo numero 6\n",
            "ingrese el tercer numero 7\n",
            "el promedio de las notas ingresadas es: 6.0\n"
          ]
        }
      ]
    },
    {
      "cell_type": "markdown",
      "metadata": {
        "id": "NZnqv8yidmWm"
      },
      "source": [
        "**Ejercicio 3**\n",
        "\n",
        "Ingresar el largo de la base y la altura de un rectangulo y calcular y mostrar en pantalla su perimetro y area."
      ]
    },
    {
      "cell_type": "code",
      "metadata": {
        "id": "QCrkBDBJvyla",
        "colab": {
          "base_uri": "https://localhost:8080/"
        },
        "outputId": "eb47c3ba-7237-45a3-d5d3-f4862ef8c68d"
      },
      "source": [
        "lado1 = int(input(\"ingrese la base del rectangulo \"))\n",
        "lado2 = int(input(\"ingrese la altura del rectangulo \"))\n",
        "\n",
        "perimetro = lado1 + lado2 \n",
        "perimetrofinal = perimetro * 2 \n",
        "\n",
        "area = lado1 * lado2\n",
        "\n",
        "print(f\"El perimetro de {lado1} y {lado2} es: {perimetrofinal}\")\n",
        "print(f\"El area de {lado1} y {lado2} es: {area}\")"
      ],
      "execution_count": null,
      "outputs": [
        {
          "output_type": "stream",
          "name": "stdout",
          "text": [
            "ingrese la base del rectangulo 5\n",
            "ingrese la altura del rectangulo 7\n",
            "El perimetro de 5 y 7 es: 24\n",
            "El area de 5 y 7 es: 35\n"
          ]
        }
      ]
    },
    {
      "cell_type": "markdown",
      "metadata": {
        "id": "24MMhdBqdmGT"
      },
      "source": [
        "**Ejercicio 4**\n",
        "\n",
        "\n",
        "Calcular el perímetro y el área de un círculo dado su radio."
      ]
    },
    {
      "cell_type": "code",
      "metadata": {
        "id": "TiNZeL_TvzKR",
        "colab": {
          "base_uri": "https://localhost:8080/"
        },
        "outputId": "711c3a37-56cb-47fe-8e5d-ffc30adbbd08"
      },
      "source": [
        "radio =  int(input(\"ingrese el radio del circulo \"))\n",
        "pi = 3.14\n",
        "\n",
        "perimetro = 2 * pi * radio\n",
        "area = pi * radio ** 2\n",
        "\n",
        "print(f\"el perimetro de {radio} es: {perimetro}\")\n",
        "print(f\"el area de {radio} es: {area}\")"
      ],
      "execution_count": null,
      "outputs": [
        {
          "output_type": "stream",
          "name": "stdout",
          "text": [
            "ingrese el radio del circulo 5\n",
            "el perimetro de 5 es: 31.400000000000002\n",
            "el area de 5 es: 78.5\n"
          ]
        }
      ]
    },
    {
      "cell_type": "markdown",
      "metadata": {
        "id": "SfMY_GICiAuc"
      },
      "source": [
        "**Ejercicio 5**\n",
        "\n",
        "Se ingresa la velocidad constante **v** (m/s) y el tiempo **t** (s) de un movil. Se desea calcular la distancia recorrida **d** (m),\n",
        "considerar que es un MRU (Movimiento Rectilíneo\n",
        "Uniforme).\n",
        "\n",
        "\n",
        "Los datos a ingresar son la velocidad y el tiempo.\n",
        "\n",
        "Mostrar la distancia recorrida y la velocidad expresada en k/h"
      ]
    },
    {
      "cell_type": "code",
      "metadata": {
        "id": "AP_x-q90v0CR"
      },
      "source": [
        ""
      ],
      "execution_count": null,
      "outputs": []
    },
    {
      "cell_type": "markdown",
      "metadata": {
        "id": "_gC6MQ9vdlYq"
      },
      "source": [
        "**Ejercicio 6**\n",
        "\n",
        "\n",
        "Escribir un algoritmo que pregunte el nombre del usuario en la consola y después de que el usuario lo introduzca muestre por pantalla **¡Hola *nombre*!**."
      ]
    },
    {
      "cell_type": "code",
      "metadata": {
        "id": "tMsaxGugv-BU",
        "colab": {
          "base_uri": "https://localhost:8080/"
        },
        "outputId": "1ba9996c-4bad-4a5a-c34f-f6237fd69262"
      },
      "source": [
        "nombre = str(input(\"Hola, como te llamas? \"))\n",
        "\n",
        "print(f\"Hola! {nombre}\")"
      ],
      "execution_count": null,
      "outputs": [
        {
          "output_type": "stream",
          "name": "stdout",
          "text": [
            "Hola, como te llamas? Nicolas\n",
            "Hola! Nicolas\n"
          ]
        }
      ]
    },
    {
      "cell_type": "markdown",
      "metadata": {
        "id": "rnqX0RDbvLjW"
      },
      "source": [
        "**Ejercicio 7**\n",
        "\n",
        "Escribí un algoritmo que solicite al usuario el ingreso de dos palabras, las cuales se guardarán en dos variables distintas. A continuación, almacená en una variable la concatenación de la primera palabra, más un espacio, más la segunda palabra. Mostrá este resultado en pantalla.\n",
        " "
      ]
    },
    {
      "cell_type": "code",
      "metadata": {
        "id": "ZNpt1yFHv_to",
        "colab": {
          "base_uri": "https://localhost:8080/"
        },
        "outputId": "45e40ffa-e182-4d56-9f7e-46e520cb8835"
      },
      "source": [
        "palabra1 = str(input(\"Hola, como te llamas? \"))\n",
        "palabra2 = str(input(\"Hola, como te llamas? \"))\n",
        "\n",
        "print(f\"Las palabras ingresadas fueron {palabra1} y {palabra2}\" )"
      ],
      "execution_count": null,
      "outputs": [
        {
          "output_type": "stream",
          "name": "stdout",
          "text": [
            "Hola, como te llamas? Nicolas\n",
            "Hola, como te llamas? Ortega\n",
            "Las palabras ingresadas fueron Nicolas y Ortega\n"
          ]
        }
      ]
    },
    {
      "cell_type": "markdown",
      "metadata": {
        "id": "PLzWcSjJdl47"
      },
      "source": [
        "**Ejercicio 8**\n",
        "\n",
        "Ingresar dia, mes y año en varibles diferentes y mostrar por pantalla la fecha completa."
      ]
    },
    {
      "cell_type": "code",
      "metadata": {
        "id": "sLL5urgawBoS",
        "colab": {
          "base_uri": "https://localhost:8080/"
        },
        "outputId": "04259b48-5345-4b15-b6c3-171efd9c7422"
      },
      "source": [
        "dia = int(input(\"Hola, ingrese el dia en numeros\"))\n",
        "mes = str(input(\"Hola, ingrese el mes en letras\"))\n",
        "año = int(input(\"Hola, ingrese el año en numeros \"))\n",
        "\n",
        "print(f\"hoy es {dia} de {mes} del {año}\")"
      ],
      "execution_count": null,
      "outputs": [
        {
          "output_type": "stream",
          "name": "stdout",
          "text": [
            "Hola, ingrese el dia en numeros24\n",
            "Hola, ingrese el mes en letrasMarzo\n",
            "Hola, ingrese el año en numeros 1993\n",
            "hoy es 24 de Marzo del 1993\n"
          ]
        }
      ]
    },
    {
      "cell_type": "markdown",
      "metadata": {
        "id": "V0jS0NTFdlpP"
      },
      "source": [
        "**Ejercicio 9**\n",
        "\n",
        "\n",
        "Elaborar un algoritmo que permita ingresar el número de partidos ganados, perdidos y empatados, por el Bitcon club de rafaela en el torneo apertura, se debe de mostrar su puntaje total, teniendo en cuenta que por cada partido ganado obtendrá 3 puntos, empatado 1 punto y perdido 0 puntos."
      ]
    },
    {
      "cell_type": "code",
      "metadata": {
        "id": "rlXA-Y-dwDKc",
        "colab": {
          "base_uri": "https://localhost:8080/"
        },
        "outputId": "cd53bc1e-0129-4253-a00d-429045ad2be3"
      },
      "source": [
        "partidoganado = int(input(\"Hola, ingrese el total de partidos ganados\"))\n",
        "partidoperdido = int(input(\"Hola, ingrese el total de partidos perdidos\"))\n",
        "partidoempatado = int(input(\"Hola, ingrese el total de partidos empatados\"))\n",
        "\n",
        "print(f\"el numero de partidos ganados fue {partidoganado}\")\n",
        "print(f\"el numero de partidos perdidos fue {partidoperdido}\")\n",
        "print(f\"el numero de partidos empatados fue {partidoempatado}\")\n",
        "\n",
        "partidoganado2 = partidoganado + 3\n",
        "partidoperdido2 = partidoperdido + 0 \n",
        "partidoempatado2 = partidoempatado + 1\n",
        "\n",
        "partidofinal = partidoganado2 + partidoperdido2 + partidoempatado2\n",
        "print(f\"el puntaje del total de los partidos fue {partidofinal}\")\n",
        "\n"
      ],
      "execution_count": null,
      "outputs": [
        {
          "output_type": "stream",
          "name": "stdout",
          "text": [
            "Hola, ingrese el total de partidos ganados5\n",
            "Hola, ingrese el total de partidos perdidos3\n",
            "Hola, ingrese el total de partidos empatados4\n",
            "el numero de partidos ganados fue 5\n",
            "el numero de partidos perdidos fue 3\n",
            "el numero de partidos empatados fue 4\n",
            "el puntaje del total de los partidos fue 16\n"
          ]
        }
      ]
    },
    {
      "cell_type": "markdown",
      "metadata": {
        "id": "AnBnvknBuoiJ"
      },
      "source": [
        "**Ejercicio 10**\n",
        "\n",
        "Escribí un algoritmo que solicite al usuario el ingreso de una temperatura en escala Fahrenheit (debe permitir decimales) y le muestre el equivalente en grados Celsius. La fórmula de conversión que se usa para este cálculo es: _Celsius = (5/9) * (Fahrenheit-32)_"
      ]
    },
    {
      "cell_type": "code",
      "metadata": {
        "id": "smkZ-4CSwHDv",
        "colab": {
          "base_uri": "https://localhost:8080/"
        },
        "outputId": "ba14d48b-77ee-4449-cfd0-acd29271b174"
      },
      "source": [
        "temperatura = int(input(\"Hola, ingrese la temperatura en grados Fahrenheit\"))\n",
        "\n",
        "conversion = temperatura - 32 \n",
        "conversion2 = conversion * 5/9\n",
        "\n",
        "conversion2 = round(conversion2,2)\n",
        "print(f\"la temperatura en grados celsius es {conversion2}\")"
      ],
      "execution_count": null,
      "outputs": [
        {
          "output_type": "stream",
          "name": "stdout",
          "text": [
            "Hola, ingrese la temperatura en grados Fahrenheit33\n",
            "la temperatura en grados celsius es 0.56\n"
          ]
        }
      ]
    },
    {
      "cell_type": "markdown",
      "metadata": {
        "id": "Wk4mDpWldk8P"
      },
      "source": [
        "**Ejercicio 11**\n",
        "\n",
        "Escribí un algoritmo que solicite al usuario dos números y los almacene en dos variables. En otra variable, almacená el resultado de la suma de esos dos números y luego mostrá ese resultado en pantalla.\n",
        "A continuación, el programa debe solicitar al usuario que ingrese un tercer número, el cual se debe almacenar en una nueva variable. Por último, mostrá en pantalla el resultado de la multiplicación de este nuevo número por el resultado de la suma anterior."
      ]
    },
    {
      "cell_type": "code",
      "metadata": {
        "id": "nvxUQQIkwISp",
        "colab": {
          "base_uri": "https://localhost:8080/"
        },
        "outputId": "5eadff92-07f5-4835-e569-0469e34136d0"
      },
      "source": [
        "numero1 = int(input(\"Hola, ingrese un numero\"))\n",
        "numero2 = int(input(\"Hola, ingrese otro numero\"))\n",
        "\n",
        "suma = numero1 + numero2\n",
        "\n",
        "print(f\"la suma del primer y segundo numero es {suma}\")\n",
        "\n",
        "numero3 = int(input(\"Hola, ingrese otro numero\"))\n",
        "\n",
        "multiplicacion = suma * numero3\n",
        "print(f\"la multiplicacion del tercer numero por la suma anterior es {multiplicacion}\")\n"
      ],
      "execution_count": null,
      "outputs": [
        {
          "output_type": "stream",
          "name": "stdout",
          "text": [
            "Hola, ingrese un numero2\n",
            "Hola, ingrese otro numero3\n",
            "la suma del primer y segundo numero es 5\n",
            "Hola, ingrese otro numero4\n",
            "la multiplicacion del tercer numero por la suma anterior es 20\n"
          ]
        }
      ]
    }
  ]
}