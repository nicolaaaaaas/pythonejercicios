{
  "nbformat": 4,
  "nbformat_minor": 0,
  "metadata": {
    "colab": {
      "name": "Copia de Clase_6ok.ipynb",
      "provenance": [],
      "collapsed_sections": []
    },
    "kernelspec": {
      "name": "python3",
      "display_name": "Python 3"
    },
    "language_info": {
      "name": "python"
    }
  },
  "cells": [
    {
      "cell_type": "markdown",
      "metadata": {
        "id": "i6_ztyMVIPfo"
      },
      "source": [
        "La idea es que ustedes vayan resolviendo los ejercicios sin la necesidad de instalarse nada en sus computadoras. \n",
        "Antes que nada, creen una copia de este archivo en su ***Google Drive*** para tener permisos de edición, luego pueden compartirlo con quien quieran, tengan cuidado con los permisos al momento de compartir!!!!!!!. Si quieren, nos pueden compartir su documento a los docentes para que hagamos las correcciones y ayudemos con las dudas.\n",
        "\n",
        "### Agustin: **agustin.otero@estudiantes.unahur.edu.ar** ###\n",
        "\n",
        "\n",
        "En los bloques de código como el que les aparece aca abajo, se puede programar en Python, al pararse dentro del bloque, aparecerá un ícono de \"*play*\" en la esquina superior izquierda, \"*clickeando*\" en este ícono, se ejecuta el código escrito y se muestra la salida debajo, probemos:\n"
      ]
    },
    {
      "cell_type": "markdown",
      "metadata": {
        "id": "6vg5PGurcjZP"
      },
      "source": [
        "Primero creamos una lista con distintos valores.\n",
        "\n",
        "Se suele estilar que las listas tengan datos homogeneos, pero esta la posibilidad de tener datos de varios tipos en la misma lista.\n",
        "\n",
        "Para crearla primero le damos el nombre como una variable, y al asignar el valor, en vez del dato solo, utilizaremos la nomenclatura de **[ ]** para indicar el comienzo y el fin de la lista, separando por comas **( , )** los valores."
      ]
    },
    {
      "cell_type": "code",
      "metadata": {
        "id": "GpKeDWE0SWTX",
        "colab": {
          "base_uri": "https://localhost:8080/"
        },
        "outputId": "1a50b6d0-a4ef-46be-9449-055f22bf4806"
      },
      "source": [
        "lista = [0,1,\"hola\",True,1]\n",
        "print(lista)"
      ],
      "execution_count": null,
      "outputs": [
        {
          "output_type": "stream",
          "name": "stdout",
          "text": [
            "[0, 1, 'hola', True, 1]\n"
          ]
        }
      ]
    },
    {
      "cell_type": "markdown",
      "metadata": {
        "id": "ysaFxs8qcxID"
      },
      "source": [
        "Para traer el valor de un solo elemento de la lista llamamos a la lista, y entre llaves el numero de orden del elemento que queremos invocar."
      ]
    },
    {
      "cell_type": "code",
      "metadata": {
        "id": "uKAdeae5T3_N",
        "colab": {
          "base_uri": "https://localhost:8080/"
        },
        "outputId": "575b9143-c2ca-4609-f714-c65287311281"
      },
      "source": [
        "print(lista[2])"
      ],
      "execution_count": null,
      "outputs": [
        {
          "output_type": "stream",
          "name": "stdout",
          "text": [
            "hola\n"
          ]
        }
      ]
    },
    {
      "cell_type": "markdown",
      "metadata": {
        "id": "t-Rn7rXJeYWR"
      },
      "source": [
        "Para agregar un valor al final de la lista tenemos el comando **append()** que le tenemos que pasar por parametro el valor a colocar al final de la fila"
      ]
    },
    {
      "cell_type": "code",
      "metadata": {
        "id": "5HymnpNLVpY6",
        "colab": {
          "base_uri": "https://localhost:8080/"
        },
        "outputId": "1b0f706f-b5b1-4c09-8dda-77002fa112af"
      },
      "source": [
        "lista.append(\"adios\")\n",
        "\n",
        "print(lista)"
      ],
      "execution_count": null,
      "outputs": [
        {
          "output_type": "stream",
          "name": "stdout",
          "text": [
            "[0, 1, 'hola', True, 1, 'adios']\n"
          ]
        }
      ]
    },
    {
      "cell_type": "markdown",
      "metadata": {
        "id": "98HbFGYmeyT9"
      },
      "source": [
        "En caso de que querramos insertar un dato en una posicion especifica de la lista tenemos el comando **insert(orden, dato)** y coloca el dato en la posicion indicada, corriendo los elementos una posicion a la derecha desde donde se coloca el nuevo dato.\n"
      ]
    },
    {
      "cell_type": "code",
      "metadata": {
        "id": "fEBxsuCdbRR_",
        "colab": {
          "base_uri": "https://localhost:8080/"
        },
        "outputId": "b649ee40-6e37-40a5-b2d6-cbae7556f7df"
      },
      "source": [
        "lista.insert(2,\"solamente\")\n",
        "\n",
        "print(lista)"
      ],
      "execution_count": null,
      "outputs": [
        {
          "output_type": "stream",
          "name": "stdout",
          "text": [
            "[0, 1, 'solamente', 'hola', True, 1, 'adios']\n"
          ]
        }
      ]
    },
    {
      "cell_type": "markdown",
      "metadata": {
        "id": "eQZjAfiQfxUT"
      },
      "source": [
        "Para sacar elementos tenemos el comando **remove()** y **pop()** :"
      ]
    },
    {
      "cell_type": "markdown",
      "metadata": {
        "id": "mf8hnA6XgWVq"
      },
      "source": [
        "El comando **pop()** saca el ultimo elemento  de la lista y lo **devuelve** para su utilizacion, en caso de ser necesario."
      ]
    },
    {
      "cell_type": "code",
      "metadata": {
        "id": "WGzMTNSwf8Fv",
        "colab": {
          "base_uri": "https://localhost:8080/"
        },
        "outputId": "65884523-db64-473c-db02-9d24477a3e8d"
      },
      "source": [
        "print(lista.pop())\n",
        "print(lista)"
      ],
      "execution_count": null,
      "outputs": [
        {
          "output_type": "stream",
          "name": "stdout",
          "text": [
            "adios\n",
            "[0, 1, 'solamente', 'hola', True, 1]\n"
          ]
        }
      ]
    },
    {
      "cell_type": "markdown",
      "metadata": {
        "id": "AKMWeuDbgoFs"
      },
      "source": [
        "El comando **remove()** lleva como parametro el elemento a sacar."
      ]
    },
    {
      "cell_type": "code",
      "metadata": {
        "id": "Eeidd9ejfwDg",
        "colab": {
          "base_uri": "https://localhost:8080/",
          "height": 231
        },
        "outputId": "e670850b-0f22-4d40-d73e-b6fcbb4d2c65"
      },
      "source": [
        "pos = lista.index(1)\n",
        "#guardo la posicion del primer 1\n",
        "lista.remove(int(1))\n",
        "#borro el primer 1\n",
        "lista.remove(int(1))\n",
        "#borro el segundo 1 \n",
        "\n",
        "lista.insert(pos,1)\n",
        "#inserto el 1 en la primera posicion\n",
        "print(lista)"
      ],
      "execution_count": null,
      "outputs": [
        {
          "output_type": "error",
          "ename": "ValueError",
          "evalue": "ignored",
          "traceback": [
            "\u001b[0;31m---------------------------------------------------------------------------\u001b[0m",
            "\u001b[0;31mValueError\u001b[0m                                Traceback (most recent call last)",
            "\u001b[0;32m<ipython-input-14-9281104fe620>\u001b[0m in \u001b[0;36m<module>\u001b[0;34m()\u001b[0m\n\u001b[0;32m----> 1\u001b[0;31m \u001b[0mpos\u001b[0m \u001b[0;34m=\u001b[0m \u001b[0mlista\u001b[0m\u001b[0;34m.\u001b[0m\u001b[0mindex\u001b[0m\u001b[0;34m(\u001b[0m\u001b[0;36m1\u001b[0m\u001b[0;34m)\u001b[0m\u001b[0;34m\u001b[0m\u001b[0;34m\u001b[0m\u001b[0m\n\u001b[0m\u001b[1;32m      2\u001b[0m \u001b[0;31m#guardo la posicion del primer 1\u001b[0m\u001b[0;34m\u001b[0m\u001b[0;34m\u001b[0m\u001b[0;34m\u001b[0m\u001b[0m\n\u001b[1;32m      3\u001b[0m \u001b[0mlista\u001b[0m\u001b[0;34m.\u001b[0m\u001b[0mremove\u001b[0m\u001b[0;34m(\u001b[0m\u001b[0mint\u001b[0m\u001b[0;34m(\u001b[0m\u001b[0;36m1\u001b[0m\u001b[0;34m)\u001b[0m\u001b[0;34m)\u001b[0m\u001b[0;34m\u001b[0m\u001b[0;34m\u001b[0m\u001b[0m\n\u001b[1;32m      4\u001b[0m \u001b[0;31m#borro el primer 1\u001b[0m\u001b[0;34m\u001b[0m\u001b[0;34m\u001b[0m\u001b[0;34m\u001b[0m\u001b[0m\n\u001b[1;32m      5\u001b[0m \u001b[0mlista\u001b[0m\u001b[0;34m.\u001b[0m\u001b[0mremove\u001b[0m\u001b[0;34m(\u001b[0m\u001b[0mint\u001b[0m\u001b[0;34m(\u001b[0m\u001b[0;36m1\u001b[0m\u001b[0;34m)\u001b[0m\u001b[0;34m)\u001b[0m\u001b[0;34m\u001b[0m\u001b[0;34m\u001b[0m\u001b[0m\n",
            "\u001b[0;31mValueError\u001b[0m: 1 is not in list"
          ]
        }
      ]
    },
    {
      "cell_type": "code",
      "metadata": {
        "id": "wXfFmxC8g3jP"
      },
      "source": [
        "lista.remove(True)\n",
        "\n",
        "print(lista)"
      ],
      "execution_count": null,
      "outputs": []
    },
    {
      "cell_type": "markdown",
      "metadata": {
        "id": "iZqcj64Un6Rw"
      },
      "source": [
        "Para un conjunto, le damos el nombre como una variable, y al asignar el valor, en vez del dato solo, utilizaremos la nomenclatura de **{ }** para indicar el comienzo y el fin de la lista, separando por comas **( , )** los valores."
      ]
    },
    {
      "cell_type": "code",
      "metadata": {
        "id": "r9DKoGiZUNcf",
        "colab": {
          "base_uri": "https://localhost:8080/"
        },
        "outputId": "36577a6d-bbb1-4d27-a6b8-0bbd51a0d93f"
      },
      "source": [
        "conjunto = {1,2,\"hola\",2,3.14}\n",
        "print(conjunto)"
      ],
      "execution_count": null,
      "outputs": [
        {
          "output_type": "stream",
          "name": "stdout",
          "text": [
            "{1, 2, 3.14, 'hola'}\n"
          ]
        }
      ]
    },
    {
      "cell_type": "markdown",
      "metadata": {
        "id": "UWLqREohoePY"
      },
      "source": [
        "No se puede invocar un solo valor del conjunto preguntado por el orde, ya que no tiene un orden definido, pero podemos \"preguntar\" sin hay un valor dentro del conjunto con la sentencia **in** devolviendo un valor booleano."
      ]
    },
    {
      "cell_type": "code",
      "metadata": {
        "id": "WH3JgflAVKpK",
        "colab": {
          "base_uri": "https://localhost:8080/",
          "height": 163
        },
        "outputId": "31f4a51c-9be2-43b3-ab1b-a7dea5ac9c5d"
      },
      "source": [
        "print(conjunto[1])"
      ],
      "execution_count": null,
      "outputs": [
        {
          "output_type": "error",
          "ename": "TypeError",
          "evalue": "ignored",
          "traceback": [
            "\u001b[0;31m---------------------------------------------------------------------------\u001b[0m",
            "\u001b[0;31mTypeError\u001b[0m                                 Traceback (most recent call last)",
            "\u001b[0;32m<ipython-input-18-303d91cebf56>\u001b[0m in \u001b[0;36m<module>\u001b[0;34m()\u001b[0m\n\u001b[0;32m----> 1\u001b[0;31m \u001b[0mprint\u001b[0m\u001b[0;34m(\u001b[0m\u001b[0mconjunto\u001b[0m\u001b[0;34m[\u001b[0m\u001b[0;36m1\u001b[0m\u001b[0;34m]\u001b[0m\u001b[0;34m)\u001b[0m\u001b[0;34m\u001b[0m\u001b[0;34m\u001b[0m\u001b[0m\n\u001b[0m",
            "\u001b[0;31mTypeError\u001b[0m: 'set' object is not subscriptable"
          ]
        }
      ]
    },
    {
      "cell_type": "code",
      "metadata": {
        "id": "TRbOMfWRqv77",
        "colab": {
          "base_uri": "https://localhost:8080/"
        },
        "outputId": "3e6ab52d-c3eb-4183-eaa6-4083e95fcd5b"
      },
      "source": [
        "\"hola\" in conjunto"
      ],
      "execution_count": null,
      "outputs": [
        {
          "output_type": "execute_result",
          "data": {
            "text/plain": [
              "False"
            ]
          },
          "metadata": {},
          "execution_count": 19
        }
      ]
    },
    {
      "cell_type": "markdown",
      "metadata": {
        "id": "4ogWMFCSrLUB"
      },
      "source": [
        "Podemos agregar valores al conjunto con el metodo **add()** y sacar con el **discard()**"
      ]
    },
    {
      "cell_type": "code",
      "metadata": {
        "id": "7PHZPqoZVvxf"
      },
      "source": [
        "conjunto.add(\"adios\")\n",
        "\n",
        "print(conjunto)"
      ],
      "execution_count": null,
      "outputs": []
    },
    {
      "cell_type": "code",
      "metadata": {
        "id": "K5FgoGguro9A"
      },
      "source": [
        "conjunto.discard(\"hola\")\n",
        "print(conjunto)"
      ],
      "execution_count": null,
      "outputs": []
    },
    {
      "cell_type": "markdown",
      "metadata": {
        "id": "PpfBa4K3rwAH"
      },
      "source": [
        "Para crear un diccionario, primero le damos el nombre como una variable, y al asignar el valor utilizaremos la nomenclatura de **{ }** para indicar el comienzo y el fin del diccionario, separando por comas **( , )** los valores y separando con dos puntos **( : )** las keys de los valores.\n"
      ]
    },
    {
      "cell_type": "code",
      "metadata": {
        "id": "cG29kkChV9Fe",
        "colab": {
          "base_uri": "https://localhost:8080/"
        },
        "outputId": "d15d5af8-fd3a-41a4-b452-e44595ccf8b1"
      },
      "source": [
        "diccionario = {\"agus\" : 1708, \"fer\" : 1688}\n",
        "\n",
        "print(diccionario)"
      ],
      "execution_count": null,
      "outputs": [
        {
          "output_type": "stream",
          "name": "stdout",
          "text": [
            "{'agus': 1708, 'fer': 1688}\n"
          ]
        }
      ]
    },
    {
      "cell_type": "markdown",
      "metadata": {
        "id": "IT99L_zmsR6B"
      },
      "source": [
        "Para invocar un valor, tenemos que pedirlo por medio de la **key** asociada, no por oden."
      ]
    },
    {
      "cell_type": "code",
      "metadata": {
        "id": "LgZF9NXGWOgJ",
        "colab": {
          "base_uri": "https://localhost:8080/",
          "height": 163
        },
        "outputId": "c28e47f7-5357-4bc6-9c53-df3e485d46c0"
      },
      "source": [
        "print(diccionario[1])"
      ],
      "execution_count": null,
      "outputs": [
        {
          "output_type": "error",
          "ename": "KeyError",
          "evalue": "ignored",
          "traceback": [
            "\u001b[0;31m---------------------------------------------------------------------------\u001b[0m",
            "\u001b[0;31mKeyError\u001b[0m                                  Traceback (most recent call last)",
            "\u001b[0;32m<ipython-input-23-f69a1c10f5d4>\u001b[0m in \u001b[0;36m<module>\u001b[0;34m()\u001b[0m\n\u001b[0;32m----> 1\u001b[0;31m \u001b[0mprint\u001b[0m\u001b[0;34m(\u001b[0m\u001b[0mdiccionario\u001b[0m\u001b[0;34m[\u001b[0m\u001b[0;36m1\u001b[0m\u001b[0;34m]\u001b[0m\u001b[0;34m)\u001b[0m\u001b[0;34m\u001b[0m\u001b[0;34m\u001b[0m\u001b[0m\n\u001b[0m",
            "\u001b[0;31mKeyError\u001b[0m: 1"
          ]
        }
      ]
    },
    {
      "cell_type": "code",
      "metadata": {
        "id": "sCSFKlQNW_hu"
      },
      "source": [
        "print(diccionario[\"agus\"])"
      ],
      "execution_count": null,
      "outputs": []
    },
    {
      "cell_type": "markdown",
      "metadata": {
        "id": "dEmBw4uHsTUo"
      },
      "source": [
        "Para agregar un valor nuevo al diccionario, lo llamaremos y le pondremos la nueva **key** entre llaves e igualaremos al valor que queremos asociar."
      ]
    },
    {
      "cell_type": "code",
      "metadata": {
        "id": "mHxmGaUeWc6l"
      },
      "source": [
        "diccionario[\"melisa\"] = 4502\n",
        "\n",
        "print(diccionario)"
      ],
      "execution_count": null,
      "outputs": []
    },
    {
      "cell_type": "markdown",
      "metadata": {
        "id": "ngbniBZAsazu"
      },
      "source": [
        "Para sacar un valor, utilizaremos el metodo **pop()**.\n"
      ]
    },
    {
      "cell_type": "code",
      "metadata": {
        "id": "CD8nIHa3uCh1"
      },
      "source": [
        "diccionario.pop(\"agus\")\n",
        "\n",
        "print(diccionario)"
      ],
      "execution_count": null,
      "outputs": []
    },
    {
      "cell_type": "markdown",
      "metadata": {
        "id": "sVQP9DCUAnuR"
      },
      "source": [
        "### **Ejercicio 1**\n",
        "\n",
        "Considere las siguientes listas:\n",
        "\n",
        "a = [5, 1, 4, 9, 0]\n",
        "\n",
        "b = [3, 4, 5 ,6 ,7 ,8 , 9].extend([20, 21, 22])\n",
        "\n",
        "c = [[1, 2], [3, 4, 5], [6, 7]]\n",
        "\n",
        "d = ['perro', 'gato', 'jirafa', 'elefante']\n",
        "\n",
        "e = ['a', a, 2 * a]\n",
        "\n",
        "*Sin ejecutar los comandos, indicar cuál es el resultado y el tipo de las siguientes expresiones. A continuación, verificar sus respuestas el ejecutar los comandos.*\n",
        "\n",
        "    a[2]\n",
        "    b[9]\n",
        "    c[1][2]\n",
        "    e[0] == e[1]\n",
        "    len(c)\n",
        "    len(c[0])\n",
        "    len(e)\n",
        "    c[-1]\n",
        "    d.index('jirafa')\n",
        "    sorted(a)[2]\n",
        "    complex(b[0], b[1])\n"
      ]
    },
    {
      "cell_type": "markdown",
      "metadata": {
        "id": "yWM5DZZvBHwQ"
      },
      "source": [
        "### **Ejercicio 2**\n",
        "\n",
        "Considere las siguientes asignaciones:\n",
        "\n",
        "a = {5, 2, 3, 9, 4}\n",
        "\n",
        "b = {3, 1}\n",
        "\n",
        "c = {7, 5, 5, 1, 8, 6}\n",
        "\n",
        "d = [6, 2, 4, 5, 5, 3, 1, 3, 7, 8]\n",
        "\n",
        "e = {(2, 3), (3, 4), (4, 5)}\n",
        "\n",
        "f = [{2, 3}, {3, 4}, {4, 5}]\n",
        "\n",
        "Sin ejecutar los comandos, indicar cuál es el resultado y el tipo de las siguientes expresiones. A continuación, verificar sus respuestas el ejecutar los comandos.\n",
        "\n",
        "    len(c)\n",
        "    len(set(d))\n",
        "    a & (b | c)\n",
        "    (a & b) | c\n",
        "    c - a\n",
        "    max(e)\n",
        "    f[0] < a\n",
        "    set(range(4)) & a\n",
        "    len(set('perro'))\n",
        "    len({'perro'})\n"
      ]
    },
    {
      "cell_type": "markdown",
      "metadata": {
        "id": "gE2HqFCGEfRq"
      },
      "source": [
        "### **Ejercicio 3**\n",
        "\n",
        "Considere las siguientes asignaciones:\n",
        "\n",
        "a = {'a': 14, 'b': 23, 'c': 88}\n",
        "\n",
        "b = {12: True, 55: False, -2: False}\n",
        "\n",
        "c = dict()\n",
        "\n",
        "d = {1: [2, 3, 4], 5: [6, 7, 8, 9], 10: [11]}\n",
        "\n",
        "e = {2 + 3: 4, 5: 6 + 7, 8: 9, 10: 11 + 12}\n",
        "\n",
        "Sin ejecutar los comandos, indicar cuál es el resultado y el tipo de las siguientes expresiones. A continuación, verificar sus respuestas el ejecutar los comandos.\n",
        "\n",
        "    a['c']\n",
        "    a[23]\n",
        "    b[-2] or b[55]\n",
        "    23 in a\n",
        "    'a' in a\n",
        "    5 in d[5]\n",
        "    sum(b)\n",
        "    len(c)\n",
        "    len(d)\n",
        "    len(d[1])\n",
        "    len(b.values())\n",
        "    len(e)\n",
        "    sum(a.values())\n",
        "    max(list(e))\n",
        "    d[1] + d[5] + d[10]"
      ]
    },
    {
      "cell_type": "markdown",
      "metadata": {
        "id": "_Je0gO64yVjI"
      },
      "source": [
        "### **Ejercicio 4**\n",
        "\n",
        "Escribir un programa que almacene las asignaturas de un curso (por ejemplo Matemáticas, Física, Química, Historia y Lengua) en una lista y la muestre por pantalla."
      ]
    },
    {
      "cell_type": "code",
      "metadata": {
        "colab": {
          "base_uri": "https://localhost:8080/"
        },
        "id": "2ZqzkFuqe05_",
        "outputId": "7c0bdf5f-8497-42d9-eb6b-87aede4b8ced"
      },
      "source": [
        "lista = [\"matematicas\", \"fisica\", \"quimica\", \"lengua\", \"historia\",\"plastica\",\"informatica\"]\n",
        "print(lista)"
      ],
      "execution_count": null,
      "outputs": [
        {
          "output_type": "stream",
          "name": "stdout",
          "text": [
            "['matematicas', 'fisica', 'quimica', 'lengua', 'historia', 'plastica', 'informatica']\n"
          ]
        }
      ]
    },
    {
      "cell_type": "markdown",
      "metadata": {
        "id": "xZ4HfeSKy3mu"
      },
      "source": [
        "### **Ejercicio 5**\n",
        "\n",
        "Escribir un programa que almacene las asignaturas de un curso (por ejemplo Matemáticas, Física, Química, Historia y Lengua) en una lista y la muestre por pantalla el mensaje \"Yo estudio **asignatura**\", donde **asignatura** es cada una de las asignaturas de la lista."
      ]
    },
    {
      "cell_type": "code",
      "metadata": {
        "colab": {
          "base_uri": "https://localhost:8080/"
        },
        "id": "vyTl4RT0gOLc",
        "outputId": "b5ee728c-115d-4cfc-866a-cb041190b938"
      },
      "source": [
        "lista = [\"matematicas\", \"fisica\", \"quimica\", \"lengua\", \"historia\",\"plastica\",\"informatica\"]\n",
        "print(f\"Yo estudio {lista}\")"
      ],
      "execution_count": null,
      "outputs": [
        {
          "output_type": "stream",
          "name": "stdout",
          "text": [
            "Yo estudio ('matematicas', 'fisica', 'quimica', 'lengua', 'historia', 'plastica', 'informatica')\n"
          ]
        }
      ]
    },
    {
      "cell_type": "markdown",
      "metadata": {
        "id": "FwORkx8_zC-y"
      },
      "source": [
        "### **Ejercicio 6**\n",
        "\n",
        "Escribir un programa que almacene las asignaturas de un curso (por ejemplo Matemáticas, Física, Química, Historia y Lengua) en una lista, pregunte al usuario la nota que ha sacado en cada asignatura, y después las muestre por pantalla con el mensaje \"En **asignatura** has sacado **nota**\" donde **asignatura** es cada una des las asignaturas de la lista y **nota** cada una de las correspondientes notas introducidas por el usuario."
      ]
    },
    {
      "cell_type": "code",
      "metadata": {
        "colab": {
          "base_uri": "https://localhost:8080/"
        },
        "id": "XKkd5PLKhASq",
        "outputId": "4d238fa9-8267-4b23-a355-cadbeee003b0"
      },
      "source": [
        "mate = int(input(\"introducí la nota de matematica\"))\n",
        "fisi = int(input(\"introducí la nota de fisica\"))\n",
        "quimi = int(input(\"introducí la nota de quimica\"))\n",
        "lengu = int(input(\"introducí la nota de lengua\"))\n",
        "histo = int(input(\"introducí la nota de historia\"))\n",
        "plasti = int(input(\"introducí la nota de plastica\"))\n",
        "info = int(input(\"introducí la nota de informatica\"))\n",
        "\n",
        "diccionario = {\"matematicas\": mate, \"fisica\" : fisi, \"quimica\" :  quimi, \"lengua\" : lengu, \"historia\": histo, \"plastica\" : plasti, \"informatica\" : info}\n",
        "print(f\"en matematicas has sacado {mate}\")\n",
        "print(f\"en fisica has sacado {fisi}\")\n",
        "print(f\"en quimica has sacado {quimi}\")\n",
        "print(f\"en lengua has sacado {lengu}\")\n",
        "print(f\"en historia has sacado {histo}\")\n",
        "print(f\"en plastica has sacado {plasti}\")\n",
        "print(f\"en informatica has sacado {info}\")"
      ],
      "execution_count": null,
      "outputs": [
        {
          "output_type": "stream",
          "name": "stdout",
          "text": [
            "introducí la nota de matematica10\n",
            "introducí la nota de fisica7\n",
            "introducí la nota de quimica5\n",
            "introducí la nota de lengua9\n",
            "introducí la nota de historia7\n",
            "introducí la nota de plastica5\n",
            "introducí la nota de informatica10\n",
            "en matematicas has sacado 10\n",
            "en fisica has sacado 7\n",
            "en quimica has sacado 5\n",
            "en lengua has sacado 9\n",
            "en historia has sacado 7\n",
            "en plastica has sacado 5\n",
            "en informatica has sacado 10\n"
          ]
        }
      ]
    },
    {
      "cell_type": "markdown",
      "metadata": {
        "id": "RFyYp0jnzwm6"
      },
      "source": [
        "### **Ejercicio 7**\n",
        "\n",
        "Escribir un programa que pregunte al usuario los números ganadores de la lotería primitiva, los almacene en una lista y los muestre por pantalla ordenados de menor a mayor."
      ]
    },
    {
      "cell_type": "code",
      "metadata": {
        "colab": {
          "base_uri": "https://localhost:8080/"
        },
        "id": "gVMfZjY7qNNZ",
        "outputId": "4294862b-7919-4295-c821-3f4932b0e694"
      },
      "source": [
        "numero1 = int(input(\"ingrese el primer numero ganador de la loteria\"))\n",
        "numero2 = int(input(\"ingrese el segundo numero ganador de la loteria\"))\n",
        "numero3 = int(input(\"ingrese el tercer numero ganador de la loteria\"))\n",
        "numero4 = int(input(\"ingrese el cuarto numero ganador de la loteria\"))\n",
        "numero5 = int(input(\"ingrese el quinto numero ganador de la loteria\"))\n",
        "numero6 = int(input(\"ingrese el sexto numero ganador de la loteria\"))\n",
        "\n",
        "lista = [numero1,numero2,numero3,numero4,numero5,numero6]\n",
        "lista.sort()\n",
        "print(f\"Los numeros de la loteria primitiva ordenados son {lista}\")"
      ],
      "execution_count": null,
      "outputs": [
        {
          "output_type": "stream",
          "name": "stdout",
          "text": [
            "ingrese el primer numero ganador de la loteria15\n",
            "ingrese el segundo numero ganador de la loteria4\n",
            "ingrese el tercer numero ganador de la loteria7\n",
            "ingrese el cuarto numero ganador de la loteria1\n",
            "ingrese el quinto numero ganador de la loteria9\n",
            "ingrese el sexto numero ganador de la loteria2\n",
            "Los numeros de la loteria primitiva ordenados son [1, 2, 4, 7, 9, 15]\n"
          ]
        }
      ]
    },
    {
      "cell_type": "markdown",
      "metadata": {
        "id": "Xi8Xk-p7z28z"
      },
      "source": [
        "### **Ejercicio 8**\n",
        "\n",
        "Escribir un programa que almacene las asignaturas de un curso (por ejemplo Matemáticas, Física, Química, Historia y Lengua) en una lista, pregunte al usuario la nota que ha sacado en cada asignatura y elimine de la lista las asignaturas aprobadas. Al final el programa debe mostrar por pantalla las asignaturas que el usuario tiene que repetir."
      ]
    },
    {
      "cell_type": "code",
      "metadata": {
        "colab": {
          "base_uri": "https://localhost:8080/"
        },
        "id": "FvXAH2-wujPv",
        "outputId": "e5a0ef91-c9bd-4f3e-ec9b-5b0d4dadb2c5"
      },
      "source": [
        "mate = int(input(\"introducí la nota de matematica\"))\n",
        "fisi = int(input(\"introducí la nota de fisica\"))\n",
        "quimi = int(input(\"introducí la nota de quimica\"))\n",
        "lengu = int(input(\"introducí la nota de lengua\"))\n",
        "histo = int(input(\"introducí la nota de historia\"))\n",
        "plasti = int(input(\"introducí la nota de plastica\"))\n",
        "info = int(input(\"introducí la nota de informatica\"))\n",
        "\n",
        "lista = [mate, fisi, quimi, lengu, histo, plasti,info]\n",
        "if mate or fisi or quimi or lengu or histo or plasti or info >= 7:\n",
        " lista.pop()\n",
        " print(lista)"
      ],
      "execution_count": null,
      "outputs": [
        {
          "output_type": "stream",
          "name": "stdout",
          "text": [
            "introducí la nota de matematica10\n",
            "introducí la nota de fisica10\n",
            "introducí la nota de quimica10\n",
            "introducí la nota de lengua10\n",
            "introducí la nota de historia10\n",
            "introducí la nota de plastica10\n",
            "introducí la nota de informatica10\n",
            "[10, 10, 10, 10, 10, 10]\n"
          ]
        }
      ]
    },
    {
      "cell_type": "code",
      "metadata": {
        "id": "3gnI_K1euWfQ"
      },
      "source": [
        ""
      ],
      "execution_count": null,
      "outputs": []
    },
    {
      "cell_type": "markdown",
      "metadata": {
        "id": "Ams1tkWIz7_T"
      },
      "source": [
        "### **Ejercicio 9**\n",
        "\n",
        "Escribir un programa que pida al usuario una palabra y muestre por pantalla el número de veces que contiene cada vocal."
      ]
    },
    {
      "cell_type": "code",
      "metadata": {
        "colab": {
          "base_uri": "https://localhost:8080/",
          "height": 129
        },
        "id": "7drK_tix2lTw",
        "outputId": "8f3556f7-6b0e-4270-e46e-a25fd0d2ac96"
      },
      "source": [
        "palabra = str(input(\"ingrese una palabra\"))\n",
        "\n",
        "set1 = {palabra}\n",
        "set2 = {\"a\",\"\"e\",\"i\",\"o\",\"u\"\"}\n",
        "print(\"set1 intersection set2 : \",\n",
        "      set1.intersection(set2))\n",
        "\n"
      ],
      "execution_count": null,
      "outputs": [
        {
          "output_type": "error",
          "ename": "SyntaxError",
          "evalue": "ignored",
          "traceback": [
            "\u001b[0;36m  File \u001b[0;32m\"<ipython-input-1-6fbbcfe2e13f>\"\u001b[0;36m, line \u001b[0;32m4\u001b[0m\n\u001b[0;31m    set2 = {\"a\",\"\"e\",\"i\",\"o\",\"u\"\"}\u001b[0m\n\u001b[0m                  ^\u001b[0m\n\u001b[0;31mSyntaxError\u001b[0m\u001b[0;31m:\u001b[0m invalid syntax\n"
          ]
        }
      ]
    },
    {
      "cell_type": "markdown",
      "metadata": {
        "id": "hWAJB6Xx0HWu"
      },
      "source": [
        "### **Ejercicio 10**\n",
        "\n",
        "Escribir un programa que guarde en una variable el diccionario **{'Euro':'€', 'Dollar':'$', 'Yen':'¥'}**, pregunte al usuario por una divisa y muestre su símbolo o un mensaje de aviso si la divisa no está en el diccionario."
      ]
    },
    {
      "cell_type": "code",
      "metadata": {
        "colab": {
          "base_uri": "https://localhost:8080/",
          "height": 52
        },
        "id": "4T2A2WKBATlE",
        "outputId": "eb1e9ab4-547c-43ae-af4c-9bd1ec62fcee"
      },
      "source": [
        "diccionario =  {'Euro':'€', 'Dollar':'$', 'Yen':'¥'}\n",
        "simbolo = str(input(\"ingrese una divisa\"))\n",
        "diccionario.get(simbolo)\n",
        "\n",
        "#if simbolo == \"Euro\" or \"Dollar\" or \"Yen\":\n",
        "  #print(\"la divisa no esta en el diccionario\")"
      ],
      "execution_count": null,
      "outputs": [
        {
          "name": "stdout",
          "output_type": "stream",
          "text": [
            "ingrese una divisaEuro\n"
          ]
        },
        {
          "output_type": "execute_result",
          "data": {
            "application/vnd.google.colaboratory.intrinsic+json": {
              "type": "string"
            },
            "text/plain": [
              "'€'"
            ]
          },
          "metadata": {},
          "execution_count": 73
        }
      ]
    },
    {
      "cell_type": "markdown",
      "metadata": {
        "id": "YgKw9POQ0OuT"
      },
      "source": [
        "### **Ejercicio 11**\n",
        "\n",
        "Escribir un programa que pregunte al usuario su nombre, edad, dirección y teléfono y lo guarde en un diccionario. Después debe mostrar por pantalla el mensaje \"**nombre** tiene **edad** años, vive en **dirección** y su número de teléfono es **teléfono**\"."
      ]
    },
    {
      "cell_type": "code",
      "metadata": {
        "colab": {
          "base_uri": "https://localhost:8080/"
        },
        "id": "9loP3KXIFINj",
        "outputId": "4ddb80dd-f5d5-4e30-d20b-b65cbf21b32d"
      },
      "source": [
        "nombre1 = str(input(\"ingrese su nombre\"))\n",
        "edad1 = int(input(\"ingrese su edad\"))\n",
        "direccion1 = str(input(\"ingrese su direccion\"))\n",
        "telefono1 = int(input(\"ingrese su numero de telefono\"))\n",
        "\n",
        "diccionario = { \"nombre\" : {nombre1}, \"edad\" : {edad1},\"direccion\" : {direccion1}, \"telefono\" : {telefono1}} \n",
        "print(f\"El nombre es {nombre1} tiene {edad1} años, vive en {direccion1} y su numero de telefono es {telefono1}\")"
      ],
      "execution_count": null,
      "outputs": [
        {
          "output_type": "stream",
          "name": "stdout",
          "text": [
            "ingrese su nombreNicolas\n",
            "ingrese su edad28\n",
            "ingrese su direccionCombate de pavon 1848\n",
            "ingrese su numero de telefono44521120\n",
            "El nombre es Nicolas tiene 28 años, vive en Combate de pavon 1848 y su numero de telefono es 44521120\n"
          ]
        }
      ]
    },
    {
      "cell_type": "markdown",
      "metadata": {
        "id": "99dKLlxV0Yfj"
      },
      "source": [
        "### **Ejercicio 12**\n",
        "\n",
        "Escribir un programa que guarde en un diccionario los precios de las frutas de la tabla, pregunte al usuario por una fruta, un número de kilos y muestre por pantalla el precio de ese número de kilos de fruta. Si la fruta no está en el diccionario debe mostrar un mensaje informando de ello.\n",
        "\n",
        "![imagen.png](data:image/png;base64,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)\n"
      ]
    },
    {
      "cell_type": "code",
      "metadata": {
        "colab": {
          "base_uri": "https://localhost:8080/"
        },
        "id": "ZTLV8NT_HFm-",
        "outputId": "302835e4-759b-427e-c447-0c8a312c5e28"
      },
      "source": [
        "diccionario = {\"platano\" : 1.35, \"manzana\": 0.80, \"pera\" : 0.85, \"naranja\" : 0.70}\n",
        "fruta = str(input(\"ingrese el nombre de una fruta(platano,manzana,pera o naranja\"))\n",
        "kilos = int(input(\"ingrese el numero de kilos\"))\n",
        "\n",
        "oper = diccionario.get(fruta) * kilos\n",
        "print(oper)\n",
        "\n",
        "\n",
        "\n",
        "\n"
      ],
      "execution_count": null,
      "outputs": [
        {
          "output_type": "stream",
          "name": "stdout",
          "text": [
            "ingrese el nombre de una fruta(platano,manzana,pera o naranjamanzana\n",
            "ingrese el numero de kilos3\n",
            "2.4000000000000004\n"
          ]
        }
      ]
    },
    {
      "cell_type": "markdown",
      "metadata": {
        "id": "l9SKxZ4a0gpz"
      },
      "source": [
        "### **Ejercicio 13**\n",
        "\n",
        "Escribir un programa que pregunte una fecha en formato dd/mm/aaaa y muestre por pantalla la misma fecha en formato dd de **mes** de aaaa donde **mes** es el nombre del mes."
      ]
    },
    {
      "cell_type": "code",
      "metadata": {
        "colab": {
          "base_uri": "https://localhost:8080/"
        },
        "id": "9G6RqoRCYKTV",
        "outputId": "0003fb18-91c7-4713-bd90-aaf1e1313747"
      },
      "source": [
        "dia = input(\"ingrese un dia en numeros\")\n",
        "mes = input(\"ingrese un mes en numeros\")\n",
        "ano = input(\"ingrese un año en numeros\")\n",
        "\n",
        "diccionario = {\"enero\" : 1, \"febrero\" : 2, \"marzo\" : 3, \"abril\" : 4, \"mayo\": 5, \"junio\" : 6 , \"julio\": 7, \"agosto\": 8, \"septiembre\" : 9, \"octubre\": 10, \"noviembre\":11, \"diciembre\":12}\n",
        "mes2 = diccionario.get(mes)\n",
        "print(f\"hoy es {dia} de {mes2} del {ano}\")"
      ],
      "execution_count": null,
      "outputs": [
        {
          "output_type": "stream",
          "name": "stdout",
          "text": [
            "ingrese un dia en numeros24\n",
            "ingrese un mes en numerosabril\n",
            "ingrese un año en numeros1996\n",
            "hoy es 24 de 4 del 1996\n"
          ]
        }
      ]
    },
    {
      "cell_type": "markdown",
      "metadata": {
        "id": "kfIOl7My0tmd"
      },
      "source": [
        "### **Ejercicio 15**\n",
        "\n",
        "Escribir un programa que almacene el diccionario con las notas de las asignaturas de un curso {'Matemáticas': 6, 'Física': 4, 'Química': 5} y después muestre por pantalla las notas de cada asignatura en el formato \"**asignatura** tiene **nota** nota\", donde **asignatura** es cada una de las asignaturas del curso, y **nota** son sus notas. Al final debe mostrar también el número total de notas del curso."
      ]
    },
    {
      "cell_type": "code",
      "metadata": {
        "colab": {
          "base_uri": "https://localhost:8080/"
        },
        "id": "cNg7U4EQ_30k",
        "outputId": "80ec3290-c6ad-4a4b-daf4-8492228008f1"
      },
      "source": [
        "diccionario = {\"matematicas\" : 6,\"fisica\" :4, \"quimica\" : 5}\n",
        "\n",
        "notam = diccionario.get(\"matematicas\")\n",
        "notaf = diccionario.get(\"fisica\")\n",
        "notaq = diccionario.get(\"quimica\")\n",
        "print(f\"matematicas tiene {notam} nota\")\n",
        "print(f\"fisica tiene {notaf} nota\")\n",
        "print(f\"quimica tiene {notaq} nota\")\n",
        "\n",
        "print(diccionario)\n"
      ],
      "execution_count": null,
      "outputs": [
        {
          "output_type": "stream",
          "name": "stdout",
          "text": [
            "matematicas tiene 6 nota\n",
            "fisica tiene 4 nota\n",
            "quimica tiene 5 nota\n",
            "{'matematicas': 6, 'fisica': 4, 'quimica': 5}\n"
          ]
        }
      ]
    }
  ]
}